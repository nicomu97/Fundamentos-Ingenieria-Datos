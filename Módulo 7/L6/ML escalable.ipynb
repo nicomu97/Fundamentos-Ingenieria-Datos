{
 "cells": [
  {
   "cell_type": "markdown",
   "id": "fd6fb542-75df-41e6-9f6b-b142c6fa860a",
   "metadata": {},
   "source": [
    "# Resumen de la actividad\n",
    "\n",
    "Una empresa de e-commerce, en nuestro rol de Data Scientist, nos ha encargado diseñar e implementar una solución predictiva de Machine Learning escalable usando Apache Spark MLib. En particular, se nos ha solicitado desarrollar todo el proceso desde la preparación de los datos hasta la evaluación del modelo.\n",
    "\n",
    "# Dataset\n",
    "\n",
    "Para esta actividad se usará el dataset disponible en [este link](https://www.kaggle.com/datasets/adilshamim8/online?resource=download). Este recopila información sobre la intención de compra de diversos usuarios, obtenido de las métricas de sesión web de Google Analytics.\n",
    "\n",
    "En nuestro caso particular, la variable objetivo es \"Revenue\", que indica si un usuario realizó o no una compra en la página.\n",
    "\n",
    "# Desarrollo\n",
    "\n",
    "Comenzamos importando las librerías necesarias."
   ]
  },
  {
   "cell_type": "code",
   "execution_count": 1,
   "id": "a290f1cc-d49c-4eb7-980a-7e1faecddcda",
   "metadata": {},
   "outputs": [],
   "source": [
    "import findspark\n",
    "findspark.init()"
   ]
  },
  {
   "cell_type": "code",
   "execution_count": 2,
   "id": "80b8f04a-4600-4313-af64-ca905d1fe3b4",
   "metadata": {},
   "outputs": [],
   "source": [
    "import os\n",
    "from pyspark.sql import SparkSession\n",
    "from pyspark.sql.types import (\n",
    "    BooleanType,\n",
    "    FloatType,\n",
    "    IntegerType,\n",
    "    StringType,\n",
    "    StructField,\n",
    "    StructType\n",
    ")\n",
    "from pyspark.sql.functions import isnan, isnull, when, count, col, lit\n",
    "from pyspark.ml import Pipeline\n",
    "from pyspark.ml.feature import VectorAssembler, OneHotEncoder, StringIndexer\n",
    "from pyspark.ml.classification import RandomForestClassifier\n",
    "from pyspark.ml.tuning import CrossValidator, ParamGridBuilder\n",
    "from pyspark.ml.evaluation import BinaryClassificationEvaluator"
   ]
  },
  {
   "cell_type": "code",
   "execution_count": 3,
   "id": "a0d0e2ac-7215-42a5-920e-81118c48e2e5",
   "metadata": {},
   "outputs": [],
   "source": [
    "spark = SparkSession.builder.appName(\"RevenueEstimator\").config(\"spark.driver.bindAddress\", \"localhost\").master(\"local[*]\").getOrCreate()\n",
    "spark.conf.set(\"spark.sql.repl.eagerEval.enabled\", True)"
   ]
  },
  {
   "cell_type": "markdown",
   "id": "1d12cacb-f067-4438-8623-30af86622699",
   "metadata": {},
   "source": [
    "Ahora cargamos el archivo como un dataframe, especificando el esquema de nuestro conjunto de datos."
   ]
  },
  {
   "cell_type": "code",
   "execution_count": 4,
   "id": "57bdb022-e412-4e07-be2a-856bf3c91bed",
   "metadata": {},
   "outputs": [],
   "source": [
    "path = os.path.join(\".\", \"data\", \"online_shoppers_intention.csv\")\n",
    "schema = StructType([\n",
    "    StructField('Administrative', IntegerType(), True),\n",
    "    StructField('Administrative_Duration', FloatType(), True),\n",
    "    StructField('Informational', IntegerType(), True),\n",
    "    StructField('Informational_Duration', FloatType(), True),\n",
    "    StructField('ProductRelated', IntegerType(), True),\n",
    "    StructField('ProductRelated_Duration', FloatType(), True),\n",
    "    StructField('BounceRates', FloatType(), True),\n",
    "    StructField('ExitRates', FloatType(), True),\n",
    "    StructField('PageValues', FloatType(), True),\n",
    "    StructField('SpecialDay', FloatType(), True),\n",
    "    StructField('Month', StringType(), True),\n",
    "    StructField('OperatingSystems', IntegerType(), True),\n",
    "    StructField('Browser', IntegerType(), True),\n",
    "    StructField('Region', IntegerType(), True),\n",
    "    StructField('TrafficType', IntegerType(), True),\n",
    "    StructField('VisitorType', StringType(), True),\n",
    "    StructField('Weekend', BooleanType(), True),\n",
    "    StructField('Revenue', StringType(), True),\n",
    "])\n",
    "df = spark.read.csv(path, header=True, schema=schema)\n",
    "df = df.replace([\"True\", \"False\"], [\"1\", \"0\"], subset=[\"Revenue\"]).withColumn(\"Revenue\", col(\"Revenue\").cast(\"float\"))"
   ]
  },
  {
   "cell_type": "code",
   "execution_count": 5,
   "id": "e11df362-4714-409e-8a7d-2e9b608167f4",
   "metadata": {},
   "outputs": [
    {
     "data": {
      "text/plain": [
       "(12330, 18)"
      ]
     },
     "execution_count": 5,
     "metadata": {},
     "output_type": "execute_result"
    }
   ],
   "source": [
    "(df.count(), len(df.columns))"
   ]
  },
  {
   "cell_type": "code",
   "execution_count": 6,
   "id": "3b5431bf-22a6-4d57-801f-b5496b058fd4",
   "metadata": {},
   "outputs": [
    {
     "data": {
      "text/html": [
       "<table border='1'>\n",
       "<tr><th>Administrative</th><th>Administrative_Duration</th><th>Informational</th><th>Informational_Duration</th><th>ProductRelated</th><th>ProductRelated_Duration</th><th>BounceRates</th><th>ExitRates</th><th>PageValues</th><th>SpecialDay</th><th>Month</th><th>OperatingSystems</th><th>Browser</th><th>Region</th><th>TrafficType</th><th>VisitorType</th><th>Weekend</th><th>Revenue</th></tr>\n",
       "<tr><td>0</td><td>0.0</td><td>0</td><td>0.0</td><td>6</td><td>1156.5</td><td>0.0</td><td>0.03333333</td><td>0.0</td><td>0.0</td><td>Nov</td><td>2</td><td>2</td><td>1</td><td>20</td><td>Returning_Visitor</td><td>false</td><td>0.0</td></tr>\n",
       "<tr><td>4</td><td>52.0</td><td>1</td><td>7.0</td><td>46</td><td>3087.0</td><td>0.003773585</td><td>0.021383649</td><td>16.946438</td><td>0.0</td><td>Mar</td><td>2</td><td>2</td><td>3</td><td>8</td><td>Returning_Visitor</td><td>false</td><td>1.0</td></tr>\n",
       "<tr><td>4</td><td>106.5</td><td>0</td><td>0.0</td><td>12</td><td>806.25</td><td>0.0125</td><td>0.029166667</td><td>0.0</td><td>0.0</td><td>Dec</td><td>2</td><td>2</td><td>1</td><td>2</td><td>Returning_Visitor</td><td>false</td><td>0.0</td></tr>\n",
       "<tr><td>9</td><td>497.16666</td><td>0</td><td>0.0</td><td>20</td><td>1170.1666</td><td>0.012121212</td><td>0.023484848</td><td>0.0</td><td>0.0</td><td>Nov</td><td>3</td><td>2</td><td>3</td><td>2</td><td>Returning_Visitor</td><td>false</td><td>0.0</td></tr>\n",
       "<tr><td>0</td><td>0.0</td><td>0</td><td>0.0</td><td>3</td><td>17.0</td><td>0.0</td><td>0.03333333</td><td>0.0</td><td>0.0</td><td>Mar</td><td>1</td><td>1</td><td>1</td><td>3</td><td>Returning_Visitor</td><td>false</td><td>0.0</td></tr>\n",
       "<tr><td>0</td><td>0.0</td><td>0</td><td>0.0</td><td>12</td><td>363.0</td><td>0.016666668</td><td>0.047222223</td><td>0.0</td><td>0.0</td><td>Nov</td><td>4</td><td>1</td><td>4</td><td>2</td><td>Returning_Visitor</td><td>false</td><td>0.0</td></tr>\n",
       "<tr><td>1</td><td>11.5</td><td>1</td><td>94.0</td><td>98</td><td>6212.7793</td><td>0.024162985</td><td>0.033991575</td><td>0.0</td><td>0.0</td><td>Nov</td><td>3</td><td>2</td><td>4</td><td>10</td><td>Returning_Visitor</td><td>true</td><td>0.0</td></tr>\n",
       "<tr><td>9</td><td>174.20833</td><td>2</td><td>383.75</td><td>151</td><td>9018.124</td><td>0.012820513</td><td>0.02459296</td><td>0.0</td><td>0.0</td><td>Nov</td><td>1</td><td>2</td><td>1</td><td>1</td><td>Returning_Visitor</td><td>true</td><td>0.0</td></tr>\n",
       "<tr><td>0</td><td>0.0</td><td>0</td><td>0.0</td><td>9</td><td>165.0</td><td>0.0</td><td>0.022222223</td><td>0.0</td><td>1.0</td><td>May</td><td>2</td><td>2</td><td>4</td><td>4</td><td>Returning_Visitor</td><td>true</td><td>0.0</td></tr>\n",
       "<tr><td>0</td><td>0.0</td><td>0</td><td>0.0</td><td>6</td><td>118.333336</td><td>0.03333333</td><td>0.044444446</td><td>0.0</td><td>0.0</td><td>Nov</td><td>3</td><td>2</td><td>1</td><td>3</td><td>Returning_Visitor</td><td>true</td><td>0.0</td></tr>\n",
       "<tr><td>0</td><td>0.0</td><td>0</td><td>0.0</td><td>48</td><td>3025.3333</td><td>0.004166667</td><td>0.009375</td><td>0.0</td><td>0.0</td><td>Aug</td><td>1</td><td>1</td><td>1</td><td>20</td><td>Returning_Visitor</td><td>false</td><td>0.0</td></tr>\n",
       "<tr><td>0</td><td>0.0</td><td>0</td><td>0.0</td><td>9</td><td>113.0</td><td>0.06666667</td><td>0.08888889</td><td>0.0</td><td>0.8</td><td>May</td><td>2</td><td>2</td><td>3</td><td>6</td><td>Returning_Visitor</td><td>false</td><td>0.0</td></tr>\n",
       "<tr><td>9</td><td>164.58333</td><td>1</td><td>0.0</td><td>76</td><td>3580.3333</td><td>0.004819277</td><td>0.020522088</td><td>12.207801</td><td>0.0</td><td>Nov</td><td>4</td><td>1</td><td>1</td><td>1</td><td>Returning_Visitor</td><td>false</td><td>0.0</td></tr>\n",
       "<tr><td>1</td><td>0.0</td><td>0</td><td>0.0</td><td>55</td><td>2780.6096</td><td>0.019242425</td><td>0.045272727</td><td>9.137331</td><td>0.0</td><td>Dec</td><td>2</td><td>2</td><td>8</td><td>3</td><td>Returning_Visitor</td><td>false</td><td>0.0</td></tr>\n",
       "<tr><td>1</td><td>46.4</td><td>0</td><td>0.0</td><td>13</td><td>118.26667</td><td>0.0</td><td>0.014285714</td><td>0.0</td><td>0.0</td><td>Jul</td><td>1</td><td>2</td><td>1</td><td>4</td><td>Returning_Visitor</td><td>true</td><td>0.0</td></tr>\n",
       "<tr><td>3</td><td>80.625</td><td>1</td><td>54.0</td><td>11</td><td>314.25</td><td>0.037333332</td><td>0.042857144</td><td>0.0</td><td>0.0</td><td>Nov</td><td>3</td><td>2</td><td>2</td><td>13</td><td>Returning_Visitor</td><td>false</td><td>0.0</td></tr>\n",
       "<tr><td>0</td><td>0.0</td><td>0</td><td>0.0</td><td>49</td><td>2259.0476</td><td>0.008163265</td><td>0.03469388</td><td>0.0</td><td>0.0</td><td>Nov</td><td>2</td><td>2</td><td>8</td><td>1</td><td>Returning_Visitor</td><td>false</td><td>0.0</td></tr>\n",
       "<tr><td>2</td><td>7.0</td><td>0</td><td>0.0</td><td>27</td><td>559.4</td><td>0.014814815</td><td>0.030452674</td><td>0.0</td><td>0.0</td><td>Mar</td><td>2</td><td>4</td><td>4</td><td>3</td><td>Returning_Visitor</td><td>true</td><td>0.0</td></tr>\n",
       "<tr><td>4</td><td>76.8</td><td>0</td><td>0.0</td><td>59</td><td>2050.2925</td><td>0.010055755</td><td>0.022337804</td><td>0.0</td><td>0.0</td><td>Jul</td><td>2</td><td>6</td><td>2</td><td>7</td><td>Returning_Visitor</td><td>false</td><td>0.0</td></tr>\n",
       "<tr><td>0</td><td>0.0</td><td>0</td><td>0.0</td><td>12</td><td>584.3333</td><td>0.0</td><td>0.023076924</td><td>12.585905</td><td>0.0</td><td>Nov</td><td>2</td><td>2</td><td>3</td><td>8</td><td>Returning_Visitor</td><td>false</td><td>0.0</td></tr>\n",
       "</table>\n",
       "only showing top 20 rows\n"
      ],
      "text/plain": [
       "+--------------+-----------------------+-------------+----------------------+--------------+-----------------------+-----------+-----------+----------+----------+-----+----------------+-------+------+-----------+-----------------+-------+-------+\n",
       "|Administrative|Administrative_Duration|Informational|Informational_Duration|ProductRelated|ProductRelated_Duration|BounceRates|  ExitRates|PageValues|SpecialDay|Month|OperatingSystems|Browser|Region|TrafficType|      VisitorType|Weekend|Revenue|\n",
       "+--------------+-----------------------+-------------+----------------------+--------------+-----------------------+-----------+-----------+----------+----------+-----+----------------+-------+------+-----------+-----------------+-------+-------+\n",
       "|             0|                    0.0|            0|                   0.0|             6|                 1156.5|        0.0| 0.03333333|       0.0|       0.0|  Nov|               2|      2|     1|         20|Returning_Visitor|  false|    0.0|\n",
       "|             4|                   52.0|            1|                   7.0|            46|                 3087.0|0.003773585|0.021383649| 16.946438|       0.0|  Mar|               2|      2|     3|          8|Returning_Visitor|  false|    1.0|\n",
       "|             4|                  106.5|            0|                   0.0|            12|                 806.25|     0.0125|0.029166667|       0.0|       0.0|  Dec|               2|      2|     1|          2|Returning_Visitor|  false|    0.0|\n",
       "|             9|              497.16666|            0|                   0.0|            20|              1170.1666|0.012121212|0.023484848|       0.0|       0.0|  Nov|               3|      2|     3|          2|Returning_Visitor|  false|    0.0|\n",
       "|             0|                    0.0|            0|                   0.0|             3|                   17.0|        0.0| 0.03333333|       0.0|       0.0|  Mar|               1|      1|     1|          3|Returning_Visitor|  false|    0.0|\n",
       "|             0|                    0.0|            0|                   0.0|            12|                  363.0|0.016666668|0.047222223|       0.0|       0.0|  Nov|               4|      1|     4|          2|Returning_Visitor|  false|    0.0|\n",
       "|             1|                   11.5|            1|                  94.0|            98|              6212.7793|0.024162985|0.033991575|       0.0|       0.0|  Nov|               3|      2|     4|         10|Returning_Visitor|   true|    0.0|\n",
       "|             9|              174.20833|            2|                383.75|           151|               9018.124|0.012820513| 0.02459296|       0.0|       0.0|  Nov|               1|      2|     1|          1|Returning_Visitor|   true|    0.0|\n",
       "|             0|                    0.0|            0|                   0.0|             9|                  165.0|        0.0|0.022222223|       0.0|       1.0|  May|               2|      2|     4|          4|Returning_Visitor|   true|    0.0|\n",
       "|             0|                    0.0|            0|                   0.0|             6|             118.333336| 0.03333333|0.044444446|       0.0|       0.0|  Nov|               3|      2|     1|          3|Returning_Visitor|   true|    0.0|\n",
       "|             0|                    0.0|            0|                   0.0|            48|              3025.3333|0.004166667|   0.009375|       0.0|       0.0|  Aug|               1|      1|     1|         20|Returning_Visitor|  false|    0.0|\n",
       "|             0|                    0.0|            0|                   0.0|             9|                  113.0| 0.06666667| 0.08888889|       0.0|       0.8|  May|               2|      2|     3|          6|Returning_Visitor|  false|    0.0|\n",
       "|             9|              164.58333|            1|                   0.0|            76|              3580.3333|0.004819277|0.020522088| 12.207801|       0.0|  Nov|               4|      1|     1|          1|Returning_Visitor|  false|    0.0|\n",
       "|             1|                    0.0|            0|                   0.0|            55|              2780.6096|0.019242425|0.045272727|  9.137331|       0.0|  Dec|               2|      2|     8|          3|Returning_Visitor|  false|    0.0|\n",
       "|             1|                   46.4|            0|                   0.0|            13|              118.26667|        0.0|0.014285714|       0.0|       0.0|  Jul|               1|      2|     1|          4|Returning_Visitor|   true|    0.0|\n",
       "|             3|                 80.625|            1|                  54.0|            11|                 314.25|0.037333332|0.042857144|       0.0|       0.0|  Nov|               3|      2|     2|         13|Returning_Visitor|  false|    0.0|\n",
       "|             0|                    0.0|            0|                   0.0|            49|              2259.0476|0.008163265| 0.03469388|       0.0|       0.0|  Nov|               2|      2|     8|          1|Returning_Visitor|  false|    0.0|\n",
       "|             2|                    7.0|            0|                   0.0|            27|                  559.4|0.014814815|0.030452674|       0.0|       0.0|  Mar|               2|      4|     4|          3|Returning_Visitor|   true|    0.0|\n",
       "|             4|                   76.8|            0|                   0.0|            59|              2050.2925|0.010055755|0.022337804|       0.0|       0.0|  Jul|               2|      6|     2|          7|Returning_Visitor|  false|    0.0|\n",
       "|             0|                    0.0|            0|                   0.0|            12|               584.3333|        0.0|0.023076924| 12.585905|       0.0|  Nov|               2|      2|     3|          8|Returning_Visitor|  false|    0.0|\n",
       "+--------------+-----------------------+-------------+----------------------+--------------+-----------------------+-----------+-----------+----------+----------+-----+----------------+-------+------+-----------+-----------------+-------+-------+\n",
       "only showing top 20 rows"
      ]
     },
     "execution_count": 6,
     "metadata": {},
     "output_type": "execute_result"
    }
   ],
   "source": [
    "df"
   ]
  },
  {
   "cell_type": "code",
   "execution_count": 7,
   "id": "4527d5f1-8870-4fc4-bbb7-e71d3256a408",
   "metadata": {},
   "outputs": [
    {
     "data": {
      "text/html": [
       "<table border='1'>\n",
       "<tr><th>Administrative</th><th>Administrative_Duration</th><th>Informational</th><th>Informational_Duration</th><th>ProductRelated</th><th>ProductRelated_Duration</th><th>BounceRates</th><th>ExitRates</th><th>PageValues</th><th>SpecialDay</th><th>OperatingSystems</th><th>Browser</th><th>Region</th><th>TrafficType</th><th>Revenue</th></tr>\n",
       "<tr><td>0</td><td>0</td><td>0</td><td>0</td><td>0</td><td>0</td><td>0</td><td>0</td><td>0</td><td>0</td><td>0</td><td>0</td><td>0</td><td>0</td><td>0</td></tr>\n",
       "</table>\n"
      ],
      "text/plain": [
       "+--------------+-----------------------+-------------+----------------------+--------------+-----------------------+-----------+---------+----------+----------+----------------+-------+------+-----------+-------+\n",
       "|Administrative|Administrative_Duration|Informational|Informational_Duration|ProductRelated|ProductRelated_Duration|BounceRates|ExitRates|PageValues|SpecialDay|OperatingSystems|Browser|Region|TrafficType|Revenue|\n",
       "+--------------+-----------------------+-------------+----------------------+--------------+-----------------------+-----------+---------+----------+----------+----------------+-------+------+-----------+-------+\n",
       "|             0|                      0|            0|                     0|             0|                      0|          0|        0|         0|         0|               0|      0|     0|          0|      0|\n",
       "+--------------+-----------------------+-------------+----------------------+--------------+-----------------------+-----------+---------+----------+----------+----------------+-------+------+-----------+-------+"
      ]
     },
     "execution_count": 7,
     "metadata": {},
     "output_type": "execute_result"
    }
   ],
   "source": [
    "df.select([\n",
    "    count(\n",
    "        when(isnan(c) | isnull(c), c)\n",
    "    ).alias(c) for (c,c_type) in df.dtypes if c_type not in ('timestamp', 'string', 'date', 'boolean', 'binary')\n",
    "])"
   ]
  },
  {
   "cell_type": "markdown",
   "id": "12ff08c8-467c-4283-8d85-4fc634e7ca36",
   "metadata": {},
   "source": [
    "Continuamos definiendo el pipeline que usaremos para preprocesar nuestro conjunto de datos y alimentar nuestro modelo de clasificación. En este caso, usaremos un modelo de Random Forest.\n",
    "\n",
    "Dado que tenemos un par de columnas de tipo string, las convertiremos en columnas categóricas usando un StringIndexer, y luego las convertiremos en variables numéricas usando OneHot Encoder.\n",
    "\n",
    "Cabe señalar que, como los modelos basados en árboles de decisión no son sensibles a la escala de los datos, en nuestro caso no será necesario ejecutar un reescalamiento, por lo que este será el único paso de preprocesamiento necesario.\n",
    "\n",
    "Además, como no hay valores faltantes en nuestro DataFrame, tampoco es necesario imputar los datos."
   ]
  },
  {
   "cell_type": "code",
   "execution_count": 8,
   "id": "a86b87ee-2b4c-4382-9c9a-e0de82af1667",
   "metadata": {},
   "outputs": [],
   "source": [
    "month_indexer = StringIndexer(inputCol='Month', outputCol='IndexedMonth')\n",
    "visitor_type_indexer = StringIndexer(inputCol='VisitorType', outputCol='IndexedVisitorType')\n",
    "\n",
    "month_ohe = OneHotEncoder(inputCol=month_indexer.getOutputCol(), outputCol='MonthOneHot')\n",
    "visitor_type_ohe = OneHotEncoder(inputCol=visitor_type_indexer.getOutputCol(), outputCol='VisitorTypeOneHot')\n",
    "\n",
    "\n",
    "input_cols = df.columns[:-1]\n",
    "input_cols.remove(\"Month\")\n",
    "input_cols.remove(\"VisitorType\")\n",
    "assembler = VectorAssembler(\n",
    "    inputCols=input_cols,\n",
    "    outputCol=\"features\"\n",
    ")\n",
    "\n",
    "rf = RandomForestClassifier(featuresCol=\"features\", labelCol='Revenue')\n",
    "pipeline = Pipeline(\n",
    "    stages=[\n",
    "        month_indexer,\n",
    "        visitor_type_indexer,\n",
    "        month_ohe,\n",
    "        visitor_type_ohe,\n",
    "        assembler,\n",
    "        rf\n",
    "    ]\n",
    ")\n",
    "\n",
    "param_grid = ParamGridBuilder().baseOn(\n",
    "    {rf.seed: 0}\n",
    ").addGrid(\n",
    "    rf.maxDepth, [10, 15, 20]\n",
    ").addGrid(\n",
    "    rf.impurity, ['gini', 'entropy']\n",
    ").addGrid(\n",
    "    rf.numTrees, [20, 40]\n",
    ").build()\n",
    "\n",
    "evaluator = BinaryClassificationEvaluator(labelCol=\"Revenue\", metricName='areaUnderROC')\n",
    "\n",
    "validator = CrossValidator(\n",
    "    estimator=pipeline,\n",
    "    estimatorParamMaps=param_grid,\n",
    "    evaluator=evaluator,\n",
    "    numFolds=5,\n",
    "    parallelism=os.cpu_count() if os.cpu_count() is not None else 1\n",
    ")"
   ]
  },
  {
   "cell_type": "markdown",
   "id": "bbb5e666-3018-4404-90f2-4dd4129d9872",
   "metadata": {},
   "source": [
    "Ahora procedemos a separar el dataframe en un conjunto de entrenamiento y prueba, refinar los hiperparámetros del modelo, entrenarlo y evaluarlo. Como nuestro conjunto de datos es relativamente grande (alrededor de 12.000 observaciones) lo dividiremos en una proporción 60%-40%."
   ]
  },
  {
   "cell_type": "code",
   "execution_count": 9,
   "id": "d1e3c018-d324-4544-92db-456dace73f11",
   "metadata": {},
   "outputs": [],
   "source": [
    "train_data = df.sampleBy(\"Revenue\", fractions={0.0: 0.6, 1.0: 0.6}, seed=10)\n",
    "test_data = df.subtract(train_data)   \n",
    "\n",
    "validator_model = validator.fit(train_data)"
   ]
  },
  {
   "cell_type": "code",
   "execution_count": 10,
   "id": "2b54f029-5745-4a92-b32d-29f6d4430395",
   "metadata": {},
   "outputs": [
    {
     "data": {
      "text/plain": [
       "0.9668735679963163"
      ]
     },
     "execution_count": 10,
     "metadata": {},
     "output_type": "execute_result"
    }
   ],
   "source": [
    "evaluator.evaluate(validator_model.transform(train_data))"
   ]
  },
  {
   "cell_type": "code",
   "execution_count": 11,
   "id": "40139ceb-97e4-4946-b357-3ebc0bbf01bb",
   "metadata": {},
   "outputs": [
    {
     "data": {
      "text/plain": [
       "0.9154664692193775"
      ]
     },
     "execution_count": 11,
     "metadata": {},
     "output_type": "execute_result"
    }
   ],
   "source": [
    "evaluator.evaluate(validator_model.transform(test_data))"
   ]
  },
  {
   "cell_type": "markdown",
   "id": "3a73affd-8b6e-4f32-9639-b2574d075f92",
   "metadata": {},
   "source": [
    "Los resultados obtenidos son prometedores, con un valor bastante alto para la métrica ROC-AUC. A pesar de ello, podemos notar que el modelo se encuentra un poco sobreajustado, dado que el desempeño en el conjunto de entrenamiento es significativamente mejor que en el conjunto de prueba.\n",
    "\n",
    "Dado lo anterior, se recomienda analizar las variables utilizadas para eliminar cualquier caso de multicolinearidad, además de optimizar los hiperparámetros del modelo sobre una colección mayor de parámetros, o usar spark en combinación con un optimizador más eficiente, como [optuna](https://optuna.org/)."
   ]
  },
  {
   "cell_type": "code",
   "execution_count": null,
   "id": "7ad1ca60-742c-4226-a3c5-9d8557d88651",
   "metadata": {},
   "outputs": [],
   "source": []
  }
 ],
 "metadata": {
  "kernelspec": {
   "display_name": "Python 3 (ipykernel)",
   "language": "python",
   "name": "python3"
  },
  "language_info": {
   "codemirror_mode": {
    "name": "ipython",
    "version": 3
   },
   "file_extension": ".py",
   "mimetype": "text/x-python",
   "name": "python",
   "nbconvert_exporter": "python",
   "pygments_lexer": "ipython3",
   "version": "3.10.18"
  }
 },
 "nbformat": 4,
 "nbformat_minor": 5
}
