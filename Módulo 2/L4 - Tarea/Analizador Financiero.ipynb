{
 "cells": [
  {
   "cell_type": "code",
   "execution_count": 1,
   "id": "e757be00-0aea-4b11-b7f5-790a4533a590",
   "metadata": {},
   "outputs": [],
   "source": [
    "class AnalizadorFinanciero:\n",
    "    # Calcula el total de ingresos en una lista de transacciones\n",
    "    def calcular_total_ingresos(self, transacciones):\n",
    "        return sum(transacciones)\n",
    "\n",
    "    # Filtra y retorna solo los ingresos mayores a un umbral dado\n",
    "    def filtrar_ingresos_altos(self, transacciones, umbral):\n",
    "        return list(filter(lambda x: x > umbral, transacciones))\n",
    "\n",
    "    # Agrupa ingresos en un diccionario por categorias\n",
    "    def agrupar_por_categoria(self, transacciones, categorias):\n",
    "        agrupado = {}\n",
    "        categorias_vistas = set()\n",
    "        for categoria, ingreso in zip(categorias, transacciones):\n",
    "            if categoria in categorias_vistas:\n",
    "                agrupado[categoria].append(ingreso)\n",
    "            else:\n",
    "                categorias_vistas.add(categoria)\n",
    "                agrupado[categoria] = [ingreso]\n",
    "        return agrupado"
   ]
  },
  {
   "cell_type": "code",
   "execution_count": 2,
   "id": "a196cca0-0137-4252-8bf1-b0df8e1e5ba2",
   "metadata": {},
   "outputs": [],
   "source": [
    "def prueba_total_ingresos():\n",
    "    transacciones = [100000, 200000, 500000, 200000]\n",
    "    total_esperado = 1000000\n",
    "    analizador = AnalizadorFinanciero()\n",
    "    total_ingresos = analizador.calcular_total_ingresos(transacciones)\n",
    "    if total_ingresos == total_esperado:\n",
    "        print(\"Método calcular_total_ingresos funcionando correctamente\")\n",
    "    else:\n",
    "        print(f\"Error en método calcular_total_ingresos: {total_ingresos} != {total_esperado}\")\n",
    "\n",
    "def prueba_filtrar_ingresos():\n",
    "    transacciones = [100000, 200000, 500000, 200000]\n",
    "    umbral = 150000\n",
    "    resultado_esperado = [200000, 500000, 200000]\n",
    "    analizador = AnalizadorFinanciero()\n",
    "    ingresos_altos = analizador.filtrar_ingresos_altos(transacciones, umbral)\n",
    "    if ingresos_altos == resultado_esperado:\n",
    "        print(\"Método filtrar_ingresos_altos funcionando correctamente\")\n",
    "    else:\n",
    "        print(f\"Error en método filtrar_ingresos_altos: {ingresos_altos} != {resultado_esperado}\")\n",
    "\n",
    "def prueba_agrupar():\n",
    "    transacciones = [100000, 200000, 500000, 200000]\n",
    "    categorias = [\"alimentos\", \"vestuario\", \"vehiculos\", \"alimentos\"]\n",
    "    resultado_esperado = {\n",
    "        \"alimentos\": [100000, 200000],\n",
    "        \"vestuario\": [200000],\n",
    "        \"vehiculos\": [500000]\n",
    "    }\n",
    "    analizador = AnalizadorFinanciero()\n",
    "    agrupado = analizador.agrupar_por_categoria(transacciones, categorias)\n",
    "    if agrupado == resultado_esperado:\n",
    "        print(\"Método agrupar_por_categoria funcionando correctamente\")\n",
    "    else:\n",
    "        print(f\"Error en método agrupar_por_categoria: {agrupado} != {resultado_esperado}\")"
   ]
  },
  {
   "cell_type": "code",
   "execution_count": 3,
   "id": "98cc8855-537b-42f0-814e-f774d5f560ca",
   "metadata": {},
   "outputs": [
    {
     "name": "stdout",
     "output_type": "stream",
     "text": [
      "Método calcular_total_ingresos funcionando correctamente\n",
      "Método filtrar_ingresos_altos funcionando correctamente\n",
      "Método agrupar_por_categoria funcionando correctamente\n"
     ]
    }
   ],
   "source": [
    "prueba_total_ingresos()\n",
    "prueba_filtrar_ingresos()\n",
    "prueba_agrupar()"
   ]
  },
  {
   "cell_type": "code",
   "execution_count": null,
   "id": "46cb323a-7c1d-4a74-af19-b447d206c2a3",
   "metadata": {},
   "outputs": [],
   "source": []
  }
 ],
 "metadata": {
  "kernelspec": {
   "display_name": "Python 3 (ipykernel)",
   "language": "python",
   "name": "python3"
  },
  "language_info": {
   "codemirror_mode": {
    "name": "ipython",
    "version": 3
   },
   "file_extension": ".py",
   "mimetype": "text/x-python",
   "name": "python",
   "nbconvert_exporter": "python",
   "pygments_lexer": "ipython3",
   "version": "3.13.3"
  }
 },
 "nbformat": 4,
 "nbformat_minor": 5
}
