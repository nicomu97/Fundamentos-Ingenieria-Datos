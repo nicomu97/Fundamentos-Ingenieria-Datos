{
 "cells": [
  {
   "cell_type": "code",
   "execution_count": 5,
   "id": "da112a7d-e89e-42a2-a96d-a44fda1c0323",
   "metadata": {},
   "outputs": [
    {
     "name": "stdout",
     "output_type": "stream",
     "text": [
      "N° empleados mayores a 30 años: 3\n",
      "empleados mayores a 30 años: ['Pedro', 'Cristina', 'Alejandro']\n"
     ]
    }
   ],
   "source": [
    "empleados = {\n",
    "    \"emp1\": {\"Nombre\": \"Pedro\", \"Edad\": 31},\n",
    "    \"emp2\": {\"Nombre\": \"Pablo\", \"Edad\": 13},\n",
    "    \"emp3\": {\"Nombre\": \"Emilia\", \"Edad\": 25},\n",
    "    \"emp4\": {\"Nombre\": \"Cristina\", \"Edad\": 43},\n",
    "    \"emp5\": {\"Nombre\":\"Alejandro\", \"Edad\": 62},\n",
    "}\n",
    "\n",
    "#empleados = dict()\n",
    "#for i in range(6):\n",
    "#    nombre = input(f\"Ingrese nombre del empleado: {i + 1}\")\n",
    "#    edad = input(f\"Ingrese edad de {nombre}\")\n",
    "#    empleados[\"emp\"+str(i)] = {\"Nombre\": nombre, \"Edad\": int(edad)}\n",
    "\n",
    "mayores = []\n",
    "for emp, datos in empleados.items():\n",
    "    if datos[\"Edad\"] > 30:\n",
    "        mayores.append(datos[\"Nombre\"])\n",
    "print(\"N° empleados mayores a 30 años:\", len(mayores))\n",
    "print(\"empleados mayores a 30 años:\", mayores)"
   ]
  },
  {
   "cell_type": "code",
   "execution_count": null,
   "id": "aa565dfc-0f9c-492e-a48f-78a121cba424",
   "metadata": {},
   "outputs": [],
   "source": []
  }
 ],
 "metadata": {
  "kernelspec": {
   "display_name": "Python 3 (ipykernel)",
   "language": "python",
   "name": "python3"
  },
  "language_info": {
   "codemirror_mode": {
    "name": "ipython",
    "version": 3
   },
   "file_extension": ".py",
   "mimetype": "text/x-python",
   "name": "python",
   "nbconvert_exporter": "python",
   "pygments_lexer": "ipython3",
   "version": "3.13.3"
  }
 },
 "nbformat": 4,
 "nbformat_minor": 5
}
