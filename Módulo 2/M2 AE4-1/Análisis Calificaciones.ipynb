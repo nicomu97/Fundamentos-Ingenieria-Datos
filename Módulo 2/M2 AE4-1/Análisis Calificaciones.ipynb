{
 "cells": [
  {
   "cell_type": "code",
   "execution_count": 6,
   "id": "e95172f6-60ed-4de3-80fd-0664b8bd24d4",
   "metadata": {},
   "outputs": [
    {
     "name": "stdout",
     "output_type": "stream",
     "text": [
      "Calificaciones: [86, 76, 62, 0, 60, 67, 30, 3, 44, 22, 32, 25, 54, 65, 94]\n",
      "Promedio final: 48.0\n",
      "Número de aprobados: 7\n",
      "Aprobados: [86, 76, 62, 60, 67, 65, 94]\n"
     ]
    }
   ],
   "source": [
    "import random\n",
    "\n",
    "n_calificaciones = random.randint(8, 15)\n",
    "calificaciones = []\n",
    "for i in range(n_calificaciones):\n",
    "    calificaciones.append(random.randint(0, 100))\n",
    "print(\"Calificaciones:\", calificaciones)\n",
    "promedio = 0\n",
    "aprobados = []\n",
    "for calificacion in calificaciones:\n",
    "    promedio += calificacion\n",
    "    if calificacion >= 60:\n",
    "        aprobados.append(calificacion)\n",
    "promedio /= n_calificaciones\n",
    "\n",
    "print(\"Promedio final:\", promedio)\n",
    "print(\"Número de aprobados:\", len(aprobados))\n",
    "print(\"Aprobados:\", aprobados)"
   ]
  },
  {
   "cell_type": "code",
   "execution_count": null,
   "id": "27901c82-e849-4c94-a1f6-de637c91bf76",
   "metadata": {},
   "outputs": [],
   "source": []
  }
 ],
 "metadata": {
  "kernelspec": {
   "display_name": "Python 3 (ipykernel)",
   "language": "python",
   "name": "python3"
  },
  "language_info": {
   "codemirror_mode": {
    "name": "ipython",
    "version": 3
   },
   "file_extension": ".py",
   "mimetype": "text/x-python",
   "name": "python",
   "nbconvert_exporter": "python",
   "pygments_lexer": "ipython3",
   "version": "3.13.3"
  }
 },
 "nbformat": 4,
 "nbformat_minor": 5
}
