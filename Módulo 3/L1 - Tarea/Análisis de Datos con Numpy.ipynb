{
 "cells": [
  {
   "cell_type": "markdown",
   "id": "9133e788-0a23-4eab-b1c8-45d374326a6e",
   "metadata": {},
   "source": [
    "# Aplicación de Numpy en el Análisis de Datos\n",
    "\n",
    "## Situación inicial\n",
    "\n",
    "Para esta tarea, nos pondremos en el rol de un analista de datos que busca optimizar los procedimientos de procesamiento de datos de una empresa de análisis financiero, la cual actualmente trabaja con datos en formatos dispersos y estructuras poco optimizadas.\n",
    "\n",
    "Para realizar dicha optimización, se decide usar Numpy, que está optimizado para realizar operaciones de álgebra lineal y estadísticas, entre otras.\n",
    "\n",
    "\n",
    "## Descripción del Caso\n",
    "\n",
    "En el rol de analista de datos descrito anteriormente, se debe utilizar Numpy para mejorar la eficiencia de los cálculos financieros, facilitando la toma de decisiones en base a métricas clave.\n",
    "\n",
    "Se deberá trabajar con matrices y arreglos de Numpy para operaciones como:\n",
    "- Creación y manipulación de arrays multidimensionales.\n",
    "- Aplicación de funciones matemáticas y estadísticas sobre datos.\n",
    "- Indexación y selección eficiente de elementos dentro de los arrays.\n",
    "- Optimización del rendimiento computacional a través del uso de **broadcasting** y operaciones vectorizadas.\n",
    "\n",
    "En particular se nos solicita:\n",
    "1. **Carga y estructuración de datos:**\n",
    "    - Crear un **array Numpy** con datos financieros simulados.\n",
    "    - Dichos datos se deben organizar en una matriz de 5 x 5 donde cada fila representa una acción y cada columna un día de cotización.\n",
    "2. **Análisis y transformación de datos:**\n",
    "    - Obtener el **promedio, valor máximo y mínimo** de cada acción a lo largo del tiempo.\n",
    "    - Calcular la **variación porcentual diaria** de cada acción.\n",
    "    - Aplicar funciones matemáticas como logaritmo, exponencial o normalización sobre los datos.\n",
    "3. **Optimización y selección de datos:**\n",
    "    - Utilizar **indexación avanzada** para extraer información específica, como el rendimiento de una acción en un día determinado.\n",
    "    - Aplicar **broadcasting** para realizar operaciones sin necesidad de bucles.\n",
    "4. **Comparación con otros métodos:**\n",
    "    - Analizar como se podrían realizar estas tareas sin Numpy y comparar la eficiencia en términos de código y rendimiento computacional."
   ]
  },
  {
   "cell_type": "markdown",
   "id": "549e15c0-4bac-4f4a-8a10-0889cf269df9",
   "metadata": {},
   "source": [
    "## Desarrollo\n",
    "\n",
    "Para iniciar el ejercicio, primero se debe importar la librería Numpy, lo cual se realiza a continuación"
   ]
  },
  {
   "cell_type": "code",
   "execution_count": 1,
   "id": "12db5966-3117-4d05-b158-db5791422bed",
   "metadata": {},
   "outputs": [],
   "source": [
    "import numpy as np"
   ]
  },
  {
   "cell_type": "markdown",
   "id": "30bc30ce-e6a2-4d93-946f-1b21604d640a",
   "metadata": {},
   "source": [
    "Posteriormente, se crea una matriz de 5 x 5 según lo solicitado. Para ello, se inicializará una matriz con valores aleatorios entre 0 y 10.000, inicializando la semilla aleatoria de Numpy para obtener un comportamiento replicable. Asumiendo que las acciones están valoradas en CLP, podemos asumir que los valores erán de tipo entero. Dado el tamaño de los valores a manipular, utilizar datos de tipo int16 será suficiente."
   ]
  },
  {
   "cell_type": "code",
   "execution_count": 2,
   "id": "00fafd69-c9de-434a-8ab8-8728c6a10bbc",
   "metadata": {},
   "outputs": [
    {
     "data": {
      "text/plain": [
       "array([[7271, 8162, 3051,  861, 5391],\n",
       "       [5192, 1946, 6466, 6348, 5735],\n",
       "       [6266,  467, 6552, 4427, 3807],\n",
       "       [5579, 7614, 5486, 6627, 9363],\n",
       "       [8323, 9889, 1686, 1350, 3697]], dtype=int16)"
      ]
     },
     "execution_count": 2,
     "metadata": {},
     "output_type": "execute_result"
    }
   ],
   "source": [
    "np.random.seed(42)\n",
    "\n",
    "acciones = np.random.randint(1, 10_000, (5, 5), dtype=np.int16)\n",
    "acciones"
   ]
  },
  {
   "cell_type": "markdown",
   "id": "50f494f2-8302-4feb-8cfc-6a3bb67f4a0c",
   "metadata": {},
   "source": [
    "Ahora procedemos al análisis y transformación de los datos. Primero, oara obtener la media, valor máximo y mínimo, podemos usar los métodos mean, max y min de numpy, respectivamente. Como queremos obtener dichos valores para cada acción a lo largo del tiempo, debemos ingresar el argumento axis=1, pues el de esta forma los métodos calcularán los valores a lo largo de las columnas, que representan los días en que se toma el valor de cada acción."
   ]
  },
  {
   "cell_type": "code",
   "execution_count": 3,
   "id": "a15543af-f06a-43f3-a2a0-69872f441c1f",
   "metadata": {},
   "outputs": [
    {
     "data": {
      "text/plain": [
       "array([4947.2, 5137.4, 4303.8, 6933.8, 4989. ])"
      ]
     },
     "execution_count": 3,
     "metadata": {},
     "output_type": "execute_result"
    }
   ],
   "source": [
    "media = acciones.mean(axis=1)\n",
    "media"
   ]
  },
  {
   "cell_type": "code",
   "execution_count": 4,
   "id": "61cbd155-aef3-4711-aee2-1b39a79f6944",
   "metadata": {},
   "outputs": [
    {
     "data": {
      "text/plain": [
       "array([8162, 6466, 6552, 9363, 9889], dtype=int16)"
      ]
     },
     "execution_count": 4,
     "metadata": {},
     "output_type": "execute_result"
    }
   ],
   "source": [
    "maximo = acciones.max(axis=1)\n",
    "maximo"
   ]
  },
  {
   "cell_type": "code",
   "execution_count": 5,
   "id": "4cacec56-8db3-4036-93ea-5a07f39244c7",
   "metadata": {},
   "outputs": [
    {
     "data": {
      "text/plain": [
       "array([ 861, 1946,  467, 5486, 1350], dtype=int16)"
      ]
     },
     "execution_count": 5,
     "metadata": {},
     "output_type": "execute_result"
    }
   ],
   "source": [
    "minimo = acciones.min(axis=1)\n",
    "minimo"
   ]
  },
  {
   "cell_type": "markdown",
   "id": "72a6aede-bcf2-45b9-a0e9-83ef5ff9d308",
   "metadata": {},
   "source": [
    "Para obtener la variación porcentual diaria de cada acción, se debe calcular la diferencia entre el día actual y el día anterior, y el resultado de dicha operación dividirlo por el valor del día anterior. Para obtener la diferencia, se puede utilizar el método diff con argumento axis=1 para calcular la diferencia entre días consecutivos, y después indexar el array acciones de forma conservar las observaciones para cada día excepto el último."
   ]
  },
  {
   "cell_type": "code",
   "execution_count": 6,
   "id": "d45888a1-c0f7-4e75-bc53-5a442e8077c2",
   "metadata": {},
   "outputs": [
    {
     "data": {
      "text/plain": [
       "array([[ 0.1225416 , -0.62619456, -0.71779744,  5.26132404],\n",
       "       [-0.6251926 ,  2.32271326, -0.0182493 , -0.09656585],\n",
       "       [-0.92547079, 13.02997859, -0.32432845, -0.1400497 ],\n",
       "       [ 0.36476071, -0.27948516,  0.20798396,  0.4128565 ],\n",
       "       [ 0.18815331, -0.82950753, -0.19928826,  1.73851852]])"
      ]
     },
     "execution_count": 6,
     "metadata": {},
     "output_type": "execute_result"
    }
   ],
   "source": [
    "variacion_porcentual = np.diff(acciones, axis=1) / acciones[:, :-1]\n",
    "variacion_porcentual"
   ]
  },
  {
   "cell_type": "markdown",
   "id": "080e7159-0b0a-4b9b-97f3-515784cedd08",
   "metadata": {},
   "source": [
    "Para calcular el logaritmo y la exponencial de los valores en el array acciones, podemos simplemente utilizar las funciones log y exp de numpy, respectivamente. En el caso de la exponencial, dividiremos por el máximo valor en el array acciones para evitar que se produzca un overflow en los cálculos, es decir, que el resultado sea más grande de lo que se puede almacenar en memoria."
   ]
  },
  {
   "cell_type": "code",
   "execution_count": 7,
   "id": "49f3812b-e352-4e04-98c3-751eccffce89",
   "metadata": {},
   "outputs": [
    {
     "data": {
      "text/plain": [
       "array([[8.891649 , 9.007244 , 8.023225 , 6.7580943, 8.592486 ],\n",
       "       [8.554874 , 7.573531 , 8.774313 , 8.755895 , 8.654343 ],\n",
       "       [8.742893 , 6.1463294, 8.787525 , 8.395477 , 8.2445965],\n",
       "       [8.626765 , 8.937744 , 8.609955 , 8.798907 , 9.144521 ],\n",
       "       [9.026778 , 9.199179 , 7.4301143, 7.20786  , 8.215277 ]],\n",
       "      dtype=float32)"
      ]
     },
     "execution_count": 7,
     "metadata": {},
     "output_type": "execute_result"
    }
   ],
   "source": [
    "logaritmo = np.log(acciones)\n",
    "logaritmo"
   ]
  },
  {
   "cell_type": "code",
   "execution_count": 8,
   "id": "0b62d931-9f58-4a80-9607-34d805052db7",
   "metadata": {},
   "outputs": [
    {
     "data": {
      "text/plain": [
       "array([[2.08602721, 2.28270584, 1.36141503, 1.09096916, 1.72486913],\n",
       "       [1.69050586, 1.21748141, 1.92294492, 1.90013583, 1.78592646],\n",
       "       [1.88444497, 1.04835701, 1.93974079, 1.56466091, 1.46957494],\n",
       "       [1.75797434, 2.1596505 , 1.74151916, 1.95450808, 2.57747332],\n",
       "       [2.32017411, 2.71828183, 1.18588872, 1.14627244, 1.45331875]])"
      ]
     },
     "execution_count": 8,
     "metadata": {},
     "output_type": "execute_result"
    }
   ],
   "source": [
    "exponencial = np.exp(acciones / acciones.max())\n",
    "exponencial"
   ]
  },
  {
   "cell_type": "markdown",
   "id": "62286c15-d6b6-4971-baee-df67fa1030c5",
   "metadata": {},
   "source": [
    "En el caso de la normalización, podemos restar a acciones su mínimo valor, y dividir por la diferencia entre su máximo y su mínimo."
   ]
  },
  {
   "cell_type": "code",
   "execution_count": 9,
   "id": "18bad9d7-223e-487b-81b9-909a003c7241",
   "metadata": {},
   "outputs": [
    {
     "data": {
      "text/plain": [
       "array([[0.72213967, 0.81670558, 0.27425175, 0.04181702, 0.52260667],\n",
       "       [0.50148588, 0.15697304, 0.63670134, 0.62417746, 0.55911696],\n",
       "       [0.61547442, 0.        , 0.64582891, 0.42029293, 0.35448949],\n",
       "       [0.54255997, 0.75854383, 0.53268945, 0.653789  , 0.94417321],\n",
       "       [0.83379325, 1.        , 0.12937805, 0.09371683, 0.34281469]])"
      ]
     },
     "execution_count": 9,
     "metadata": {},
     "output_type": "execute_result"
    }
   ],
   "source": [
    "acciones_normalizadas = (acciones - acciones.min()) / (acciones.max() - acciones.min())\n",
    "acciones_normalizadas"
   ]
  },
  {
   "cell_type": "markdown",
   "id": "6896f100-059d-4539-aa19-c3d5b8047d3d",
   "metadata": {},
   "source": [
    "Dado que Numpy usa operaciones vectorizadas, los cálculos realizados son mucho más rápidos que con funciones estándar de Python, dado que Numpy realiza dichas operaciones por bloques, mientras que Python estándar realiza dichas operaciones de manera desorganizada a través de bucles. Si juntamos todo el código anterior escrito con Numpy, obtenemos la siguiente celda de código."
   ]
  },
  {
   "cell_type": "code",
   "execution_count": 10,
   "id": "be28d0f1-9a90-475d-a640-c1d7cc6dd6cc",
   "metadata": {},
   "outputs": [],
   "source": [
    "def operaciones_numpy(n_filas, n_columnas):\n",
    "    \"\"\"Realiza diversas operaciones matriciales usando la librería Numpy.\"\"\"\n",
    "    acciones = np.random.randint(1, 10_000, (n_filas, n_columnas), dtype=np.int16)\n",
    "    media = acciones.mean(axis=1)\n",
    "    maximo = acciones.max(axis=1)\n",
    "    minimo = acciones.min(axis=1)\n",
    "    variacion_porcentual = np.diff(acciones, axis=1) / acciones[:, :-1]\n",
    "    logaritmo = np.log(acciones)\n",
    "    exponencial = np.exp(acciones / acciones.max())\n",
    "    acciones_normalizadas = (acciones - acciones.min()) / (acciones.max() - acciones.min())"
   ]
  },
  {
   "cell_type": "code",
   "execution_count": 11,
   "id": "8d5fd3f6-dfdb-496c-af58-439887500d13",
   "metadata": {},
   "outputs": [
    {
     "name": "stdout",
     "output_type": "stream",
     "text": [
      "37.9 μs ± 498 ns per loop (mean ± std. dev. of 100 runs, 10,000 loops each)\n"
     ]
    }
   ],
   "source": [
    "%%timeit -r 100\n",
    "\n",
    "operaciones_numpy(5, 5)"
   ]
  },
  {
   "cell_type": "markdown",
   "id": "8d94b160-a078-4c73-af9d-3ff53578f800",
   "metadata": {},
   "source": [
    "El código anterior usa solo 8 líneas de código, y se demora alrededor de 40 microsegundos en ejecutarse, con una desviación estándar de 1.96 microsegundos. Por otro lado, el equivalente en Python sería como en la siguiente celda de código."
   ]
  },
  {
   "cell_type": "code",
   "execution_count": 12,
   "id": "2a610c5f-b939-48fb-88f4-8c9f198a3d67",
   "metadata": {},
   "outputs": [],
   "source": [
    "import random\n",
    "import math\n",
    "random.seed(42)"
   ]
  },
  {
   "cell_type": "code",
   "execution_count": 13,
   "id": "8e9ca070-ef2a-459d-bc85-5b35616bf1f0",
   "metadata": {},
   "outputs": [],
   "source": [
    "def operaciones_python(n_filas, n_columnas):\n",
    "    \"\"\"Realiza diversas operaciones matriciales usando las librerías estándar de Python.\"\"\"\n",
    "    acciones = [[random.randint(1, 10_000) for j in range(n_columnas)] for i in range(n_filas)]\n",
    "    media = [sum(acciones[i]) / len(acciones[i]) for i in range(n_filas)]\n",
    "    maximo = [max(acciones[i]) for i in range(n_filas)]\n",
    "    minimo = [min(acciones[i]) for i in range(n_filas)]\n",
    "    variacion_porcentual = [[(acciones[i][j + 1] - acciones[i][j]) / acciones[i][j] for j in range(n_columnas - 1)] for i in range(n_filas)]\n",
    "    logaritmo = [[math.log(acciones[i][j]) for j in range(n_columnas)] for i in range(n_filas)]\n",
    "    maximo_acciones = max(maximo)\n",
    "    exponencial = [[math.exp(acciones[i][j] - maximo_acciones) for j in range(n_columnas)] for i in range(n_filas)]\n",
    "    minimo_acciones = min(minimo)\n",
    "    rango = maximo_acciones - minimo_acciones\n",
    "    acciones_normalizadas = [[(acciones[i][j] - minimo_acciones) / rango for j in range(n_columnas)] for i in range(n_filas)]"
   ]
  },
  {
   "cell_type": "code",
   "execution_count": 14,
   "id": "c921999b-e366-446c-aca8-75f29bb6e9cf",
   "metadata": {},
   "outputs": [
    {
     "name": "stdout",
     "output_type": "stream",
     "text": [
      "25.9 μs ± 276 ns per loop (mean ± std. dev. of 100 runs, 10,000 loops each)\n"
     ]
    }
   ],
   "source": [
    "%%timeit -r 100\n",
    "\n",
    "operaciones_python(5, 5)"
   ]
  },
  {
   "cell_type": "markdown",
   "id": "5c1a12fc-82b5-4ca2-a1ba-e814a7be33f9",
   "metadata": {},
   "source": [
    "En este caso particular, las librerías estándar de Python resultan ser un poco más rápidas que Numpy, pues estamos trabajando con una cantidad pequeña de datos. Sin embargo, podemos notar que, a pesar de que las operaciones realizadas son relativamente simples, Python introduce mucha más verbosidad que Numpy, lo cual hace el código más difícil de mantener y propenso a errores.\n",
    "\n",
    "Si aumentamos la cantidad de datos a procesar, por ejemplo 1.000 filas y 10 columnas, Numpy debería ser mucho más rápido que Python."
   ]
  },
  {
   "cell_type": "code",
   "execution_count": 15,
   "id": "1c42ee6a-2d09-4e00-a0a0-f22e1a1cddef",
   "metadata": {},
   "outputs": [
    {
     "name": "stdout",
     "output_type": "stream",
     "text": [
      "264 μs ± 1.48 μs per loop (mean ± std. dev. of 10 runs, 1,000 loops each)\n"
     ]
    }
   ],
   "source": [
    "%%timeit -r 10\n",
    "\n",
    "operaciones_numpy(1_000, 10)"
   ]
  },
  {
   "cell_type": "code",
   "execution_count": 16,
   "id": "e851250a-f426-456d-8e37-e76fb8147eb0",
   "metadata": {},
   "outputs": [
    {
     "name": "stdout",
     "output_type": "stream",
     "text": [
      "9.39 ms ± 49.4 μs per loop (mean ± std. dev. of 10 runs, 100 loops each)\n"
     ]
    }
   ],
   "source": [
    "%%timeit -r 10\n",
    "\n",
    "operaciones_python(1_000, 10)"
   ]
  },
  {
   "cell_type": "markdown",
   "id": "5b3a85d7-de60-4886-a735-6801f4cd8b10",
   "metadata": {},
   "source": [
    "Ahora es mucho más clara la diferencia de rendimiento. De hecho, Numpy en este caso es casi 5.000 veces más rápido que Python estándar, evidenciando claramente que Numpy es mucho más eficiente a medida que aumenta la cantidad de datos a procesar.\n",
    "\n",
    "## Conclusión\n",
    "\n",
    "A través del uso de Numpy, es posible optimizar nuestro código de Python, tanto en eficiencia de procesamiento como en cantidad de código escrito, permitiendo un desarrollo más rápido sencillo de operaciones matemáticas en Python. Visto lo anterior, debería usarse Numpy en vez de las librerías estándar de Python siempre que sea posible."
   ]
  },
  {
   "cell_type": "code",
   "execution_count": null,
   "id": "bd3ba0d9-ac31-472e-9d50-fd935db8062b",
   "metadata": {},
   "outputs": [],
   "source": []
  }
 ],
 "metadata": {
  "kernelspec": {
   "display_name": "Python 3 (ipykernel)",
   "language": "python",
   "name": "python3"
  },
  "language_info": {
   "codemirror_mode": {
    "name": "ipython",
    "version": 3
   },
   "file_extension": ".py",
   "mimetype": "text/x-python",
   "name": "python",
   "nbconvert_exporter": "python",
   "pygments_lexer": "ipython3",
   "version": "3.13.3"
  }
 },
 "nbformat": 4,
 "nbformat_minor": 5
}
