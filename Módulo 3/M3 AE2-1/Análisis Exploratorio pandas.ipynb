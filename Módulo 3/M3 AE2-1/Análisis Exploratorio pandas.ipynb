{
 "cells": [
  {
   "cell_type": "markdown",
   "id": "1001c942-efd7-4e9a-8ffd-a35dc680845c",
   "metadata": {},
   "source": [
    "# Primer acercamiento al análisis exploratorio con pandas\n",
    "\n",
    "Esta actividad busca que nos familiaricemos con la estructura de un Dataframey aplicar los métodos básicos de exploración y resumen de datos para obtener una primera comprensión de su contenido.\n",
    "\n",
    "# Desarrollo\n",
    "\n",
    "En una primera inspección de los datos, notamos que se trata del conteo de medallas de cada país en alguna competencia internacional. Dado que el número de medallas es un número no negativo y bastante acotado, podemos usar el tipo UInt8 para optimizar el uso de memoria. De la misma forma, podemos usar el tipo categoy de pandas para la columna con los nombres de países. Esto lo podemos ejecutar a través del argumento dtype de la función read_csv de pandas.\n",
    "\n",
    "Iniciamos importando pandas e importando los datos en el archivo \"datos.csv\", dentro de la carpeta \"Datos\"."
   ]
  },
  {
   "cell_type": "code",
   "execution_count": 1,
   "id": "7589a212-5896-4eb0-9ccd-73b9065feb2f",
   "metadata": {},
   "outputs": [],
   "source": [
    "import os\n",
    "import pandas as pd"
   ]
  },
  {
   "cell_type": "code",
   "execution_count": 2,
   "id": "fa4a852a-43c2-4141-b300-761a1176db73",
   "metadata": {},
   "outputs": [],
   "source": [
    "direccion_datos = os.path.join(\".\", \"Datos\", \"datos.csv\")\n",
    "df = pd.read_csv(\n",
    "    direccion_datos,\n",
    "    dtype={\n",
    "        \"Oro\": \"UInt8\",\n",
    "        \"Plata\": \"UInt8\",\n",
    "        \"Bronce\": \"UInt8\",\n",
    "        \"Total\": \"UInt8\",\n",
    "        \"Pais\": \"category\",\n",
    "    }\n",
    ")"
   ]
  },
  {
   "cell_type": "markdown",
   "id": "4aedfc16-a728-49a1-9adc-9caaedfbad40",
   "metadata": {},
   "source": [
    "Ahora usamos el método head para ver los primeros 5 registros."
   ]
  },
  {
   "cell_type": "code",
   "execution_count": 3,
   "id": "804a4762-11c8-4e0e-9ace-79aa6903e6b5",
   "metadata": {},
   "outputs": [
    {
     "data": {
      "text/html": [
       "<div>\n",
       "<style scoped>\n",
       "    .dataframe tbody tr th:only-of-type {\n",
       "        vertical-align: middle;\n",
       "    }\n",
       "\n",
       "    .dataframe tbody tr th {\n",
       "        vertical-align: top;\n",
       "    }\n",
       "\n",
       "    .dataframe thead th {\n",
       "        text-align: right;\n",
       "    }\n",
       "</style>\n",
       "<table border=\"1\" class=\"dataframe\">\n",
       "  <thead>\n",
       "    <tr style=\"text-align: right;\">\n",
       "      <th></th>\n",
       "      <th>Oro</th>\n",
       "      <th>Plata</th>\n",
       "      <th>Bronce</th>\n",
       "      <th>Total</th>\n",
       "      <th>Pais</th>\n",
       "    </tr>\n",
       "  </thead>\n",
       "  <tbody>\n",
       "    <tr>\n",
       "      <th>0</th>\n",
       "      <td>&lt;NA&gt;</td>\n",
       "      <td>1</td>\n",
       "      <td>2</td>\n",
       "      <td>3</td>\n",
       "      <td>Argentina</td>\n",
       "    </tr>\n",
       "    <tr>\n",
       "      <th>1</th>\n",
       "      <td>&lt;NA&gt;</td>\n",
       "      <td>2</td>\n",
       "      <td>2</td>\n",
       "      <td>4</td>\n",
       "      <td>Armenia</td>\n",
       "    </tr>\n",
       "    <tr>\n",
       "      <th>2</th>\n",
       "      <td>17</td>\n",
       "      <td>7</td>\n",
       "      <td>22</td>\n",
       "      <td>46</td>\n",
       "      <td>Australia</td>\n",
       "    </tr>\n",
       "    <tr>\n",
       "      <th>3</th>\n",
       "      <td>1</td>\n",
       "      <td>1</td>\n",
       "      <td>5</td>\n",
       "      <td>7</td>\n",
       "      <td>Austria</td>\n",
       "    </tr>\n",
       "    <tr>\n",
       "      <th>4</th>\n",
       "      <td>&lt;NA&gt;</td>\n",
       "      <td>3</td>\n",
       "      <td>4</td>\n",
       "      <td>7</td>\n",
       "      <td>Azerbaijan</td>\n",
       "    </tr>\n",
       "  </tbody>\n",
       "</table>\n",
       "</div>"
      ],
      "text/plain": [
       "    Oro  Plata  Bronce  Total        Pais\n",
       "0  <NA>      1       2      3   Argentina\n",
       "1  <NA>      2       2      4     Armenia\n",
       "2    17      7      22     46   Australia\n",
       "3     1      1       5      7     Austria\n",
       "4  <NA>      3       4      7  Azerbaijan"
      ]
     },
     "execution_count": 3,
     "metadata": {},
     "output_type": "execute_result"
    }
   ],
   "source": [
    "df.head()"
   ]
  },
  {
   "cell_type": "markdown",
   "id": "8f8777d3-0177-410d-93af-a6d56345a65a",
   "metadata": {},
   "source": [
    "Notamos inmediatamente que hay varios registros con datos faltantes. Para obtener más información del Dataframe, usamos el método info."
   ]
  },
  {
   "cell_type": "code",
   "execution_count": 4,
   "id": "5369ddc4-57a6-46d9-9cec-1af737d4349a",
   "metadata": {},
   "outputs": [
    {
     "name": "stdout",
     "output_type": "stream",
     "text": [
      "<class 'pandas.core.frame.DataFrame'>\n",
      "RangeIndex: 93 entries, 0 to 92\n",
      "Data columns (total 5 columns):\n",
      " #   Column  Non-Null Count  Dtype   \n",
      "---  ------  --------------  -----   \n",
      " 0   Oro     65 non-null     UInt8   \n",
      " 1   Plata   69 non-null     UInt8   \n",
      " 2   Bronce  76 non-null     UInt8   \n",
      " 3   Total   93 non-null     UInt8   \n",
      " 4   Pais    93 non-null     category\n",
      "dtypes: UInt8(4), category(1)\n",
      "memory usage: 3.7 KB\n"
     ]
    }
   ],
   "source": [
    "df.info()"
   ]
  },
  {
   "cell_type": "markdown",
   "id": "edb675cf-11c6-40fc-9008-6b11808b4f21",
   "metadata": {},
   "source": [
    "Por lo que se ve en la celda anterior, solo las columnas Total y País están completas. Ahora veamos información estadística de estos datos usando el método describe."
   ]
  },
  {
   "cell_type": "code",
   "execution_count": 5,
   "id": "302b9f2d-ede6-4c6f-a96b-72b6691230cd",
   "metadata": {},
   "outputs": [
    {
     "data": {
      "text/html": [
       "<div>\n",
       "<style scoped>\n",
       "    .dataframe tbody tr th:only-of-type {\n",
       "        vertical-align: middle;\n",
       "    }\n",
       "\n",
       "    .dataframe tbody tr th {\n",
       "        vertical-align: top;\n",
       "    }\n",
       "\n",
       "    .dataframe thead th {\n",
       "        text-align: right;\n",
       "    }\n",
       "</style>\n",
       "<table border=\"1\" class=\"dataframe\">\n",
       "  <thead>\n",
       "    <tr style=\"text-align: right;\">\n",
       "      <th></th>\n",
       "      <th>Oro</th>\n",
       "      <th>Plata</th>\n",
       "      <th>Bronce</th>\n",
       "      <th>Total</th>\n",
       "    </tr>\n",
       "  </thead>\n",
       "  <tbody>\n",
       "    <tr>\n",
       "      <th>count</th>\n",
       "      <td>65.0</td>\n",
       "      <td>69.0</td>\n",
       "      <td>76.0</td>\n",
       "      <td>93.0</td>\n",
       "    </tr>\n",
       "    <tr>\n",
       "      <th>mean</th>\n",
       "      <td>4.4</td>\n",
       "      <td>4.768116</td>\n",
       "      <td>4.934211</td>\n",
       "      <td>10.548387</td>\n",
       "    </tr>\n",
       "    <tr>\n",
       "      <th>std</th>\n",
       "      <td>7.633806</td>\n",
       "      <td>7.276362</td>\n",
       "      <td>6.261705</td>\n",
       "      <td>18.897617</td>\n",
       "    </tr>\n",
       "    <tr>\n",
       "      <th>min</th>\n",
       "      <td>1.0</td>\n",
       "      <td>1.0</td>\n",
       "      <td>1.0</td>\n",
       "      <td>1.0</td>\n",
       "    </tr>\n",
       "    <tr>\n",
       "      <th>25%</th>\n",
       "      <td>1.0</td>\n",
       "      <td>1.0</td>\n",
       "      <td>1.0</td>\n",
       "      <td>2.0</td>\n",
       "    </tr>\n",
       "    <tr>\n",
       "      <th>50%</th>\n",
       "      <td>2.0</td>\n",
       "      <td>2.0</td>\n",
       "      <td>2.0</td>\n",
       "      <td>4.0</td>\n",
       "    </tr>\n",
       "    <tr>\n",
       "      <th>75%</th>\n",
       "      <td>3.0</td>\n",
       "      <td>5.0</td>\n",
       "      <td>5.25</td>\n",
       "      <td>8.0</td>\n",
       "    </tr>\n",
       "    <tr>\n",
       "      <th>max</th>\n",
       "      <td>39.0</td>\n",
       "      <td>41.0</td>\n",
       "      <td>33.0</td>\n",
       "      <td>113.0</td>\n",
       "    </tr>\n",
       "  </tbody>\n",
       "</table>\n",
       "</div>"
      ],
      "text/plain": [
       "            Oro     Plata    Bronce      Total\n",
       "count      65.0      69.0      76.0       93.0\n",
       "mean        4.4  4.768116  4.934211  10.548387\n",
       "std    7.633806  7.276362  6.261705  18.897617\n",
       "min         1.0       1.0       1.0        1.0\n",
       "25%         1.0       1.0       1.0        2.0\n",
       "50%         2.0       2.0       2.0        4.0\n",
       "75%         3.0       5.0      5.25        8.0\n",
       "max        39.0      41.0      33.0      113.0"
      ]
     },
     "execution_count": 5,
     "metadata": {},
     "output_type": "execute_result"
    }
   ],
   "source": [
    "df.describe()"
   ]
  },
  {
   "cell_type": "markdown",
   "id": "edea4d32-6533-45ec-b9a7-a92c9dd042f9",
   "metadata": {},
   "source": [
    "Por lo visto, en los datos disponibles, todos los países obtuvieron al menos una medalla de cada tipo. Agregando el contexto de una competencia internacional, es probable que los registros faltantes correspondan a países que no obtuvieron medallas de un tipo específico, y estos datos se hallan dejado sin completar.\n",
    "\n",
    "Usaremos los métodos isnull y sum para obtener un conteo preciso de datos faltantes para cada columna."
   ]
  },
  {
   "cell_type": "code",
   "execution_count": 6,
   "id": "16544a3d-dd64-42c2-b40c-f77414260368",
   "metadata": {},
   "outputs": [
    {
     "data": {
      "text/plain": [
       "Oro       28\n",
       "Plata     24\n",
       "Bronce    17\n",
       "Total      0\n",
       "Pais       0\n",
       "dtype: int64"
      ]
     },
     "execution_count": 6,
     "metadata": {},
     "output_type": "execute_result"
    }
   ],
   "source": [
    "df.isnull().sum()"
   ]
  },
  {
   "cell_type": "markdown",
   "id": "c026559b-37f6-456a-b926-d67a888462b4",
   "metadata": {},
   "source": [
    "El hecho que el Oro tenga más datos faltantes, seguido de Plata y Bronce, refuerza la hipótesis de que los datos faltantes corresponden a ceros. Realizaremos una imputación simple con el método fillna antes de continuar."
   ]
  },
  {
   "cell_type": "code",
   "execution_count": 7,
   "id": "646f6a4d-0ae9-4980-b043-73db79d71916",
   "metadata": {},
   "outputs": [
    {
     "data": {
      "text/html": [
       "<div>\n",
       "<style scoped>\n",
       "    .dataframe tbody tr th:only-of-type {\n",
       "        vertical-align: middle;\n",
       "    }\n",
       "\n",
       "    .dataframe tbody tr th {\n",
       "        vertical-align: top;\n",
       "    }\n",
       "\n",
       "    .dataframe thead th {\n",
       "        text-align: right;\n",
       "    }\n",
       "</style>\n",
       "<table border=\"1\" class=\"dataframe\">\n",
       "  <thead>\n",
       "    <tr style=\"text-align: right;\">\n",
       "      <th></th>\n",
       "      <th>Oro</th>\n",
       "      <th>Plata</th>\n",
       "      <th>Bronce</th>\n",
       "      <th>Total</th>\n",
       "      <th>Pais</th>\n",
       "    </tr>\n",
       "  </thead>\n",
       "  <tbody>\n",
       "    <tr>\n",
       "      <th>0</th>\n",
       "      <td>0</td>\n",
       "      <td>1</td>\n",
       "      <td>2</td>\n",
       "      <td>3</td>\n",
       "      <td>Argentina</td>\n",
       "    </tr>\n",
       "    <tr>\n",
       "      <th>1</th>\n",
       "      <td>0</td>\n",
       "      <td>2</td>\n",
       "      <td>2</td>\n",
       "      <td>4</td>\n",
       "      <td>Armenia</td>\n",
       "    </tr>\n",
       "    <tr>\n",
       "      <th>2</th>\n",
       "      <td>17</td>\n",
       "      <td>7</td>\n",
       "      <td>22</td>\n",
       "      <td>46</td>\n",
       "      <td>Australia</td>\n",
       "    </tr>\n",
       "    <tr>\n",
       "      <th>3</th>\n",
       "      <td>1</td>\n",
       "      <td>1</td>\n",
       "      <td>5</td>\n",
       "      <td>7</td>\n",
       "      <td>Austria</td>\n",
       "    </tr>\n",
       "    <tr>\n",
       "      <th>4</th>\n",
       "      <td>0</td>\n",
       "      <td>3</td>\n",
       "      <td>4</td>\n",
       "      <td>7</td>\n",
       "      <td>Azerbaijan</td>\n",
       "    </tr>\n",
       "  </tbody>\n",
       "</table>\n",
       "</div>"
      ],
      "text/plain": [
       "   Oro  Plata  Bronce  Total        Pais\n",
       "0    0      1       2      3   Argentina\n",
       "1    0      2       2      4     Armenia\n",
       "2   17      7      22     46   Australia\n",
       "3    1      1       5      7     Austria\n",
       "4    0      3       4      7  Azerbaijan"
      ]
     },
     "execution_count": 7,
     "metadata": {},
     "output_type": "execute_result"
    }
   ],
   "source": [
    "df = df.fillna({\"Oro\": 0, \"Plata\": 0, \"Bronce\": 0})\n",
    "df.head()"
   ]
  },
  {
   "cell_type": "code",
   "execution_count": 8,
   "id": "551c7bd6-d920-481b-be98-04a652cff8df",
   "metadata": {},
   "outputs": [
    {
     "data": {
      "text/plain": [
       "Oro       0\n",
       "Plata     0\n",
       "Bronce    0\n",
       "Total     0\n",
       "Pais      0\n",
       "dtype: int64"
      ]
     },
     "execution_count": 8,
     "metadata": {},
     "output_type": "execute_result"
    }
   ],
   "source": [
    "df.isnull().sum()"
   ]
  },
  {
   "cell_type": "markdown",
   "id": "68683712-aacb-4845-a4d0-481e0b693711",
   "metadata": {},
   "source": [
    "Ahora procedemos a calcular algunas métricas estadísticas adicionales."
   ]
  },
  {
   "cell_type": "code",
   "execution_count": 9,
   "id": "02c312e2-433a-4c2f-bc35-223553a49194",
   "metadata": {},
   "outputs": [
    {
     "data": {
      "text/plain": [
       "Oro        3.075269\n",
       "Plata      3.537634\n",
       "Bronce     4.032258\n",
       "Total     10.548387\n",
       "dtype: Float64"
      ]
     },
     "execution_count": 9,
     "metadata": {},
     "output_type": "execute_result"
    }
   ],
   "source": [
    "df.mean(numeric_only=True)"
   ]
  },
  {
   "cell_type": "code",
   "execution_count": 10,
   "id": "a9c173cd-6f7f-4fab-be50-a055e5f4ce97",
   "metadata": {},
   "outputs": [
    {
     "data": {
      "text/plain": [
       "Oro       1.0\n",
       "Plata     1.0\n",
       "Bronce    2.0\n",
       "Total     4.0\n",
       "dtype: Float64"
      ]
     },
     "execution_count": 10,
     "metadata": {},
     "output_type": "execute_result"
    }
   ],
   "source": [
    "df.median(numeric_only=True)"
   ]
  },
  {
   "cell_type": "code",
   "execution_count": 11,
   "id": "d05b9cf6-4173-42c9-97b5-22d5839c5d6d",
   "metadata": {},
   "outputs": [
    {
     "data": {
      "text/plain": [
       "Oro        6.682613\n",
       "Plata      6.598022\n",
       "Bronce     5.969946\n",
       "Total     18.897617\n",
       "dtype: Float64"
      ]
     },
     "execution_count": 11,
     "metadata": {},
     "output_type": "execute_result"
    }
   ],
   "source": [
    "df.std(numeric_only=True)"
   ]
  },
  {
   "cell_type": "markdown",
   "id": "d0ec34e9-86c4-4130-bdec-54e1c9b4dfd0",
   "metadata": {},
   "source": [
    "De las estadísticas anteriores, se ve que el Oro tiene una menor media que la Plata y el Bronce, explicada por la diferencia en la dificultad de obtención de cada una. Además, siguen la misma tendencia en dispersión."
   ]
  },
  {
   "cell_type": "code",
   "execution_count": null,
   "id": "c9952209-5082-45d4-8819-d484bf474118",
   "metadata": {},
   "outputs": [],
   "source": []
  }
 ],
 "metadata": {
  "kernelspec": {
   "display_name": "Python 3 (ipykernel)",
   "language": "python",
   "name": "python3"
  },
  "language_info": {
   "codemirror_mode": {
    "name": "ipython",
    "version": 3
   },
   "file_extension": ".py",
   "mimetype": "text/x-python",
   "name": "python",
   "nbconvert_exporter": "python",
   "pygments_lexer": "ipython3",
   "version": "3.13.3"
  }
 },
 "nbformat": 4,
 "nbformat_minor": 5
}
