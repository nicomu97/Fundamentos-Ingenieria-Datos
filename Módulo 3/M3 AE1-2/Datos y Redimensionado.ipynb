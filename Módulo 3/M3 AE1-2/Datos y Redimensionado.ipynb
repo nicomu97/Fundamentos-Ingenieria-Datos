{
 "cells": [
  {
   "cell_type": "markdown",
   "id": "fc02f799-ea38-4f33-8419-c7ac509e518f",
   "metadata": {},
   "source": [
    "# Generación de datos y redimensionado\n",
    "\n",
    "Esta actividad busca fortalecer el dominio sobre las funciones predefinidas para crear arreglos, generar datos de prueba y reestructurar datos."
   ]
  },
  {
   "cell_type": "markdown",
   "id": "0226de82-fc3a-4209-a287-054809c44ff2",
   "metadata": {},
   "source": [
    "1. Se importa la librería numpy"
   ]
  },
  {
   "cell_type": "code",
   "execution_count": 1,
   "id": "84d0b1b3-6f4e-445c-95b2-a58c4a6a427c",
   "metadata": {},
   "outputs": [],
   "source": [
    "import numpy as np"
   ]
  },
  {
   "cell_type": "markdown",
   "id": "2a9c20e9-8656-4ff9-9b75-1b41c29f3935",
   "metadata": {},
   "source": [
    "2. Se crea un arreglo con números del 1 al 16 usando la función arange y se redimensiona a una matriz de 4 x 4 usando el método reshape."
   ]
  },
  {
   "cell_type": "code",
   "execution_count": 2,
   "id": "a9d6756a-b123-473d-bd72-832ad6536fd1",
   "metadata": {},
   "outputs": [
    {
     "data": {
      "text/plain": [
       "array([[ 1,  2,  3,  4],\n",
       "       [ 5,  6,  7,  8],\n",
       "       [ 9, 10, 11, 12],\n",
       "       [13, 14, 15, 16]])"
      ]
     },
     "execution_count": 2,
     "metadata": {},
     "output_type": "execute_result"
    }
   ],
   "source": [
    "x = np.arange(1, 17)\n",
    "x = x.reshape(4, 4)\n",
    "x"
   ]
  },
  {
   "cell_type": "markdown",
   "id": "523212cd-f721-4dcf-b67f-bc07e6936e6f",
   "metadata": {},
   "source": [
    "3. Se usa la función linspace para crear un arreglo con 10 elementos equiespaciados entre 0 y 100."
   ]
  },
  {
   "cell_type": "code",
   "execution_count": 5,
   "id": "c8a9fc12-634d-47aa-9404-6687cb4c69cb",
   "metadata": {},
   "outputs": [
    {
     "data": {
      "text/plain": [
       "array([  0.        ,  11.11111111,  22.22222222,  33.33333333,\n",
       "        44.44444444,  55.55555556,  66.66666667,  77.77777778,\n",
       "        88.88888889, 100.        ])"
      ]
     },
     "execution_count": 5,
     "metadata": {},
     "output_type": "execute_result"
    }
   ],
   "source": [
    "y = np.linspace(0, 100, 10)\n",
    "y"
   ]
  },
  {
   "cell_type": "markdown",
   "id": "54f3c040-e008-4067-b592-8893216e0333",
   "metadata": {},
   "source": [
    "4. Se crea una matriz de 3 x 3 con números aleatorios entre 1 y 20."
   ]
  },
  {
   "cell_type": "code",
   "execution_count": 6,
   "id": "643f6a76-e1ed-4725-8df5-0223933be8b8",
   "metadata": {},
   "outputs": [
    {
     "data": {
      "text/plain": [
       "array([[ 1, 18, 14],\n",
       "       [ 7, 10, 10],\n",
       "       [15,  8,  7]], dtype=int32)"
      ]
     },
     "execution_count": 6,
     "metadata": {},
     "output_type": "execute_result"
    }
   ],
   "source": [
    "z = np.random.randint(1, 20, (3, 3))\n",
    "z"
   ]
  },
  {
   "cell_type": "markdown",
   "id": "cd6610a3-487e-48ff-b13f-b0b3537d70fc",
   "metadata": {},
   "source": [
    "5. Se calcula la raíz y el logaritmo de los arreglos."
   ]
  },
  {
   "cell_type": "code",
   "execution_count": 7,
   "id": "429cab5b-15ec-4e2e-957b-d6931d8f7639",
   "metadata": {},
   "outputs": [
    {
     "data": {
      "text/plain": [
       "array([ 0.        ,  3.33333333,  4.71404521,  5.77350269,  6.66666667,\n",
       "        7.45355992,  8.16496581,  8.81917104,  9.42809042, 10.        ])"
      ]
     },
     "execution_count": 7,
     "metadata": {},
     "output_type": "execute_result"
    }
   ],
   "source": [
    "np.sqrt(y)"
   ]
  },
  {
   "cell_type": "code",
   "execution_count": 8,
   "id": "c1e92a2f-c4e9-464a-9fd7-dfc1d6fd382c",
   "metadata": {},
   "outputs": [
    {
     "data": {
      "text/plain": [
       "array([[0.        , 2.89037176, 2.63905733],\n",
       "       [1.94591015, 2.30258509, 2.30258509],\n",
       "       [2.7080502 , 2.07944154, 1.94591015]])"
      ]
     },
     "execution_count": 8,
     "metadata": {},
     "output_type": "execute_result"
    }
   ],
   "source": [
    "np.log(z)"
   ]
  },
  {
   "cell_type": "code",
   "execution_count": null,
   "id": "24950b0f-5a5e-4ab5-890e-f22dcc2542c3",
   "metadata": {},
   "outputs": [],
   "source": []
  }
 ],
 "metadata": {
  "kernelspec": {
   "display_name": "Python 3 (ipykernel)",
   "language": "python",
   "name": "python3"
  },
  "language_info": {
   "codemirror_mode": {
    "name": "ipython",
    "version": 3
   },
   "file_extension": ".py",
   "mimetype": "text/x-python",
   "name": "python",
   "nbconvert_exporter": "python",
   "pygments_lexer": "ipython3",
   "version": "3.13.3"
  }
 },
 "nbformat": 4,
 "nbformat_minor": 5
}
