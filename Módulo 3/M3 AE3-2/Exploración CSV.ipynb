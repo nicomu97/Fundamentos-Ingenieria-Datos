{
 "cells": [
  {
   "cell_type": "markdown",
   "id": "1e1980bf-de2b-44bf-8965-5a1dba483ff0",
   "metadata": {},
   "source": [
    "# Exploración de archivos CSV\n",
    "\n",
    "En esta actividad se busca aprender a importar datos desde archivos CSV, comprender su estructura y aplicar buenas prácticas para la carga de datos tabulares en Python con pandas.\n",
    "\n",
    "# Desarrollo\n",
    "\n",
    "Para empezar, se importa la librería pandas y el módulo os de Python."
   ]
  },
  {
   "cell_type": "code",
   "execution_count": 1,
   "id": "59909571-3a7c-4457-a7d8-849c56cdeeba",
   "metadata": {},
   "outputs": [],
   "source": [
    "import os\n",
    "import pandas as pd"
   ]
  },
  {
   "cell_type": "markdown",
   "id": "77351c00-9683-4744-8fdd-8f15d58eb9ce",
   "metadata": {},
   "source": [
    "El archivo a cargar es el clásico conjunto de datos del titanic (disponible [aquí](https://www.kaggle.com/datasets/brendan45774/test-file?resource=download)), almacenado en la carpeta \"Datos\"."
   ]
  },
  {
   "cell_type": "code",
   "execution_count": 2,
   "id": "844043db-c97a-44b4-bfb5-4d8bc68417dc",
   "metadata": {},
   "outputs": [],
   "source": [
    "directorio_titanic = os.path.join(\".\", \"Datos\", \"titanic.csv\")\n",
    "dtype = {\n",
    "    \"PassengerId\": \"UInt16\",\n",
    "    \"Pclass\": \"UInt8\",\n",
    "    \"Name\": \"string\",\n",
    "    \"Sex\": \"category\",\n",
    "    \"SibSp\": \"UInt8\",\n",
    "    \"Parch\": \"UInt8\",\n",
    "    \"Age\": \"Float32\",\n",
    "    \"Ticket\": \"string\",\n",
    "    \"Fare\": \"Float32\",\n",
    "    \"Cabin\": \"category\",\n",
    "    \"Embarked\": \"category\"\n",
    "}\n",
    "titanic = pd.read_csv(directorio_titanic, dtype=dtype)"
   ]
  },
  {
   "cell_type": "markdown",
   "id": "c10992dd-2489-404a-a407-9013044e0d7c",
   "metadata": {},
   "source": [
    "A continuación, se examinan las primeras 5 filas del Dataframe, así como su estructura general."
   ]
  },
  {
   "cell_type": "code",
   "execution_count": 3,
   "id": "02023be2-0613-4f99-8d7f-f527455815fc",
   "metadata": {},
   "outputs": [
    {
     "data": {
      "text/html": [
       "<div>\n",
       "<style scoped>\n",
       "    .dataframe tbody tr th:only-of-type {\n",
       "        vertical-align: middle;\n",
       "    }\n",
       "\n",
       "    .dataframe tbody tr th {\n",
       "        vertical-align: top;\n",
       "    }\n",
       "\n",
       "    .dataframe thead th {\n",
       "        text-align: right;\n",
       "    }\n",
       "</style>\n",
       "<table border=\"1\" class=\"dataframe\">\n",
       "  <thead>\n",
       "    <tr style=\"text-align: right;\">\n",
       "      <th></th>\n",
       "      <th>PassengerId</th>\n",
       "      <th>Survived</th>\n",
       "      <th>Pclass</th>\n",
       "      <th>Name</th>\n",
       "      <th>Sex</th>\n",
       "      <th>Age</th>\n",
       "      <th>SibSp</th>\n",
       "      <th>Parch</th>\n",
       "      <th>Ticket</th>\n",
       "      <th>Fare</th>\n",
       "      <th>Cabin</th>\n",
       "      <th>Embarked</th>\n",
       "    </tr>\n",
       "  </thead>\n",
       "  <tbody>\n",
       "    <tr>\n",
       "      <th>0</th>\n",
       "      <td>892</td>\n",
       "      <td>0</td>\n",
       "      <td>3</td>\n",
       "      <td>Kelly, Mr. James</td>\n",
       "      <td>male</td>\n",
       "      <td>34.5</td>\n",
       "      <td>0</td>\n",
       "      <td>0</td>\n",
       "      <td>330911</td>\n",
       "      <td>7.8292</td>\n",
       "      <td>NaN</td>\n",
       "      <td>Q</td>\n",
       "    </tr>\n",
       "    <tr>\n",
       "      <th>1</th>\n",
       "      <td>893</td>\n",
       "      <td>1</td>\n",
       "      <td>3</td>\n",
       "      <td>Wilkes, Mrs. James (Ellen Needs)</td>\n",
       "      <td>female</td>\n",
       "      <td>47.0</td>\n",
       "      <td>1</td>\n",
       "      <td>0</td>\n",
       "      <td>363272</td>\n",
       "      <td>7.0</td>\n",
       "      <td>NaN</td>\n",
       "      <td>S</td>\n",
       "    </tr>\n",
       "    <tr>\n",
       "      <th>2</th>\n",
       "      <td>894</td>\n",
       "      <td>0</td>\n",
       "      <td>2</td>\n",
       "      <td>Myles, Mr. Thomas Francis</td>\n",
       "      <td>male</td>\n",
       "      <td>62.0</td>\n",
       "      <td>0</td>\n",
       "      <td>0</td>\n",
       "      <td>240276</td>\n",
       "      <td>9.6875</td>\n",
       "      <td>NaN</td>\n",
       "      <td>Q</td>\n",
       "    </tr>\n",
       "    <tr>\n",
       "      <th>3</th>\n",
       "      <td>895</td>\n",
       "      <td>0</td>\n",
       "      <td>3</td>\n",
       "      <td>Wirz, Mr. Albert</td>\n",
       "      <td>male</td>\n",
       "      <td>27.0</td>\n",
       "      <td>0</td>\n",
       "      <td>0</td>\n",
       "      <td>315154</td>\n",
       "      <td>8.6625</td>\n",
       "      <td>NaN</td>\n",
       "      <td>S</td>\n",
       "    </tr>\n",
       "    <tr>\n",
       "      <th>4</th>\n",
       "      <td>896</td>\n",
       "      <td>1</td>\n",
       "      <td>3</td>\n",
       "      <td>Hirvonen, Mrs. Alexander (Helga E Lindqvist)</td>\n",
       "      <td>female</td>\n",
       "      <td>22.0</td>\n",
       "      <td>1</td>\n",
       "      <td>1</td>\n",
       "      <td>3101298</td>\n",
       "      <td>12.2875</td>\n",
       "      <td>NaN</td>\n",
       "      <td>S</td>\n",
       "    </tr>\n",
       "  </tbody>\n",
       "</table>\n",
       "</div>"
      ],
      "text/plain": [
       "   PassengerId  Survived  Pclass  \\\n",
       "0          892         0       3   \n",
       "1          893         1       3   \n",
       "2          894         0       2   \n",
       "3          895         0       3   \n",
       "4          896         1       3   \n",
       "\n",
       "                                           Name     Sex   Age  SibSp  Parch  \\\n",
       "0                              Kelly, Mr. James    male  34.5      0      0   \n",
       "1              Wilkes, Mrs. James (Ellen Needs)  female  47.0      1      0   \n",
       "2                     Myles, Mr. Thomas Francis    male  62.0      0      0   \n",
       "3                              Wirz, Mr. Albert    male  27.0      0      0   \n",
       "4  Hirvonen, Mrs. Alexander (Helga E Lindqvist)  female  22.0      1      1   \n",
       "\n",
       "    Ticket     Fare Cabin Embarked  \n",
       "0   330911   7.8292   NaN        Q  \n",
       "1   363272      7.0   NaN        S  \n",
       "2   240276   9.6875   NaN        Q  \n",
       "3   315154   8.6625   NaN        S  \n",
       "4  3101298  12.2875   NaN        S  "
      ]
     },
     "execution_count": 3,
     "metadata": {},
     "output_type": "execute_result"
    }
   ],
   "source": [
    "titanic.head()"
   ]
  },
  {
   "cell_type": "code",
   "execution_count": 4,
   "id": "8e9a2893-32b2-4810-88c2-2960c5fd2647",
   "metadata": {},
   "outputs": [
    {
     "name": "stdout",
     "output_type": "stream",
     "text": [
      "<class 'pandas.core.frame.DataFrame'>\n",
      "RangeIndex: 418 entries, 0 to 417\n",
      "Data columns (total 12 columns):\n",
      " #   Column       Non-Null Count  Dtype   \n",
      "---  ------       --------------  -----   \n",
      " 0   PassengerId  418 non-null    UInt16  \n",
      " 1   Survived     418 non-null    int64   \n",
      " 2   Pclass       418 non-null    UInt8   \n",
      " 3   Name         418 non-null    string  \n",
      " 4   Sex          418 non-null    category\n",
      " 5   Age          332 non-null    Float32 \n",
      " 6   SibSp        418 non-null    UInt8   \n",
      " 7   Parch        418 non-null    UInt8   \n",
      " 8   Ticket       418 non-null    string  \n",
      " 9   Fare         417 non-null    Float32 \n",
      " 10  Cabin        91 non-null     category\n",
      " 11  Embarked     418 non-null    category\n",
      "dtypes: Float32(2), UInt16(1), UInt8(3), category(3), int64(1), string(2)\n",
      "memory usage: 21.8 KB\n"
     ]
    }
   ],
   "source": [
    "titanic.info()"
   ]
  },
  {
   "cell_type": "markdown",
   "id": "2ab56ba9-52a1-4daf-81a8-a656eda1310a",
   "metadata": {},
   "source": [
    "Cambiaremos el nombre de algunas columnas para hacer el Dataframe más legible."
   ]
  },
  {
   "cell_type": "code",
   "execution_count": 5,
   "id": "2f1f586d-8d7a-4dfb-a46d-9c4e04bbe745",
   "metadata": {},
   "outputs": [],
   "source": [
    "titanic = titanic.rename(columns={\"PassengerId\": \"Id\", \"Pclass\": \"Class\"})"
   ]
  },
  {
   "cell_type": "code",
   "execution_count": 6,
   "id": "2d2c6b21-1fb6-4b00-99a3-0730404798ba",
   "metadata": {},
   "outputs": [
    {
     "data": {
      "text/html": [
       "<div>\n",
       "<style scoped>\n",
       "    .dataframe tbody tr th:only-of-type {\n",
       "        vertical-align: middle;\n",
       "    }\n",
       "\n",
       "    .dataframe tbody tr th {\n",
       "        vertical-align: top;\n",
       "    }\n",
       "\n",
       "    .dataframe thead th {\n",
       "        text-align: right;\n",
       "    }\n",
       "</style>\n",
       "<table border=\"1\" class=\"dataframe\">\n",
       "  <thead>\n",
       "    <tr style=\"text-align: right;\">\n",
       "      <th></th>\n",
       "      <th>Id</th>\n",
       "      <th>Survived</th>\n",
       "      <th>Class</th>\n",
       "      <th>Name</th>\n",
       "      <th>Sex</th>\n",
       "      <th>Age</th>\n",
       "      <th>SibSp</th>\n",
       "      <th>Parch</th>\n",
       "      <th>Ticket</th>\n",
       "      <th>Fare</th>\n",
       "      <th>Cabin</th>\n",
       "      <th>Embarked</th>\n",
       "    </tr>\n",
       "  </thead>\n",
       "  <tbody>\n",
       "    <tr>\n",
       "      <th>0</th>\n",
       "      <td>892</td>\n",
       "      <td>0</td>\n",
       "      <td>3</td>\n",
       "      <td>Kelly, Mr. James</td>\n",
       "      <td>male</td>\n",
       "      <td>34.5</td>\n",
       "      <td>0</td>\n",
       "      <td>0</td>\n",
       "      <td>330911</td>\n",
       "      <td>7.8292</td>\n",
       "      <td>NaN</td>\n",
       "      <td>Q</td>\n",
       "    </tr>\n",
       "    <tr>\n",
       "      <th>1</th>\n",
       "      <td>893</td>\n",
       "      <td>1</td>\n",
       "      <td>3</td>\n",
       "      <td>Wilkes, Mrs. James (Ellen Needs)</td>\n",
       "      <td>female</td>\n",
       "      <td>47.0</td>\n",
       "      <td>1</td>\n",
       "      <td>0</td>\n",
       "      <td>363272</td>\n",
       "      <td>7.0</td>\n",
       "      <td>NaN</td>\n",
       "      <td>S</td>\n",
       "    </tr>\n",
       "    <tr>\n",
       "      <th>2</th>\n",
       "      <td>894</td>\n",
       "      <td>0</td>\n",
       "      <td>2</td>\n",
       "      <td>Myles, Mr. Thomas Francis</td>\n",
       "      <td>male</td>\n",
       "      <td>62.0</td>\n",
       "      <td>0</td>\n",
       "      <td>0</td>\n",
       "      <td>240276</td>\n",
       "      <td>9.6875</td>\n",
       "      <td>NaN</td>\n",
       "      <td>Q</td>\n",
       "    </tr>\n",
       "    <tr>\n",
       "      <th>3</th>\n",
       "      <td>895</td>\n",
       "      <td>0</td>\n",
       "      <td>3</td>\n",
       "      <td>Wirz, Mr. Albert</td>\n",
       "      <td>male</td>\n",
       "      <td>27.0</td>\n",
       "      <td>0</td>\n",
       "      <td>0</td>\n",
       "      <td>315154</td>\n",
       "      <td>8.6625</td>\n",
       "      <td>NaN</td>\n",
       "      <td>S</td>\n",
       "    </tr>\n",
       "    <tr>\n",
       "      <th>4</th>\n",
       "      <td>896</td>\n",
       "      <td>1</td>\n",
       "      <td>3</td>\n",
       "      <td>Hirvonen, Mrs. Alexander (Helga E Lindqvist)</td>\n",
       "      <td>female</td>\n",
       "      <td>22.0</td>\n",
       "      <td>1</td>\n",
       "      <td>1</td>\n",
       "      <td>3101298</td>\n",
       "      <td>12.2875</td>\n",
       "      <td>NaN</td>\n",
       "      <td>S</td>\n",
       "    </tr>\n",
       "  </tbody>\n",
       "</table>\n",
       "</div>"
      ],
      "text/plain": [
       "    Id  Survived  Class                                          Name     Sex  \\\n",
       "0  892         0      3                              Kelly, Mr. James    male   \n",
       "1  893         1      3              Wilkes, Mrs. James (Ellen Needs)  female   \n",
       "2  894         0      2                     Myles, Mr. Thomas Francis    male   \n",
       "3  895         0      3                              Wirz, Mr. Albert    male   \n",
       "4  896         1      3  Hirvonen, Mrs. Alexander (Helga E Lindqvist)  female   \n",
       "\n",
       "    Age  SibSp  Parch   Ticket     Fare Cabin Embarked  \n",
       "0  34.5      0      0   330911   7.8292   NaN        Q  \n",
       "1  47.0      1      0   363272      7.0   NaN        S  \n",
       "2  62.0      0      0   240276   9.6875   NaN        Q  \n",
       "3  27.0      0      0   315154   8.6625   NaN        S  \n",
       "4  22.0      1      1  3101298  12.2875   NaN        S  "
      ]
     },
     "execution_count": 6,
     "metadata": {},
     "output_type": "execute_result"
    }
   ],
   "source": [
    "titanic.head()"
   ]
  },
  {
   "cell_type": "markdown",
   "id": "9587cb97-76e8-4d7a-90a6-8a9b870275b3",
   "metadata": {},
   "source": [
    "Veamos ahora cuantos valores faltantes hay en cada columna."
   ]
  },
  {
   "cell_type": "code",
   "execution_count": 7,
   "id": "6ec7f9a9-6bef-4abc-982b-5f237e3bb788",
   "metadata": {},
   "outputs": [
    {
     "data": {
      "text/plain": [
       "Id            0\n",
       "Survived      0\n",
       "Class         0\n",
       "Name          0\n",
       "Sex           0\n",
       "Age          86\n",
       "SibSp         0\n",
       "Parch         0\n",
       "Ticket        0\n",
       "Fare          1\n",
       "Cabin       327\n",
       "Embarked      0\n",
       "dtype: int64"
      ]
     },
     "execution_count": 7,
     "metadata": {},
     "output_type": "execute_result"
    }
   ],
   "source": [
    "titanic.isnull().sum()"
   ]
  },
  {
   "cell_type": "markdown",
   "id": "4962e3ed-f90a-4707-8b7f-6b24ae337da1",
   "metadata": {},
   "source": [
    "Vemos que las columnas \"Age\", \"Fare\" y \"Cabin\" tienen datos faltantes. Se procede a imputar estas columnas, las columnas numéricas con la media y las categóricas con la moda."
   ]
  },
  {
   "cell_type": "code",
   "execution_count": 8,
   "id": "710c5689-5678-48e7-ae3e-69e5de316486",
   "metadata": {},
   "outputs": [],
   "source": [
    "titanic = titanic.fillna({\n",
    "    \"Age\": titanic[\"Age\"].mean(),\n",
    "    \"Fare\": titanic[\"Fare\"].mean(),\n",
    "    \"Cabin\": titanic[\"Cabin\"].mode()[0]\n",
    "})"
   ]
  },
  {
   "cell_type": "code",
   "execution_count": 9,
   "id": "cf53305f-0eac-426d-a3d8-00650099632f",
   "metadata": {},
   "outputs": [
    {
     "data": {
      "text/plain": [
       "Id          0\n",
       "Survived    0\n",
       "Class       0\n",
       "Name        0\n",
       "Sex         0\n",
       "Age         0\n",
       "SibSp       0\n",
       "Parch       0\n",
       "Ticket      0\n",
       "Fare        0\n",
       "Cabin       0\n",
       "Embarked    0\n",
       "dtype: int64"
      ]
     },
     "execution_count": 9,
     "metadata": {},
     "output_type": "execute_result"
    }
   ],
   "source": [
    "titanic.isnull().sum()"
   ]
  },
  {
   "cell_type": "markdown",
   "id": "cfde5822-e87a-450f-82fd-6cb1140b75c5",
   "metadata": {},
   "source": [
    "Finalmente, se exporta el Dataframe a un nuevo archivo CSV."
   ]
  },
  {
   "cell_type": "code",
   "execution_count": 10,
   "id": "275e6433-bb00-43b3-9010-07008454ab95",
   "metadata": {},
   "outputs": [],
   "source": [
    "directorio_nuevo = os.path.join(\".\", \"Datos\", \"titanic_nuevo.csv\")\n",
    "titanic.to_csv(directorio_nuevo)"
   ]
  },
  {
   "cell_type": "code",
   "execution_count": null,
   "id": "5dcd4d1a-7cf9-4ac9-89a9-0553ba620afe",
   "metadata": {},
   "outputs": [],
   "source": []
  }
 ],
 "metadata": {
  "kernelspec": {
   "display_name": "Python 3 (ipykernel)",
   "language": "python",
   "name": "python3"
  },
  "language_info": {
   "codemirror_mode": {
    "name": "ipython",
    "version": 3
   },
   "file_extension": ".py",
   "mimetype": "text/x-python",
   "name": "python",
   "nbconvert_exporter": "python",
   "pygments_lexer": "ipython3",
   "version": "3.13.3"
  }
 },
 "nbformat": 4,
 "nbformat_minor": 5
}
