{
 "cells": [
  {
   "cell_type": "markdown",
   "id": "78e70e69-f3d4-4622-920c-26efbd10098f",
   "metadata": {},
   "source": [
    "# Explorando matrices y operaciones básicas\n",
    "\n",
    "El propósito de esta actividad es experimentar con la librería numpy creando y\n",
    "realizando operaciones básicas sobre matrices."
   ]
  },
  {
   "cell_type": "markdown",
   "id": "605e0fe3-7de3-4bc1-a39e-d0138246d561",
   "metadata": {},
   "source": [
    "1. Se importa la librería numpy."
   ]
  },
  {
   "cell_type": "code",
   "execution_count": 2,
   "id": "be8b3278-7bd0-49c9-8a0e-d5e885308347",
   "metadata": {},
   "outputs": [],
   "source": [
    "import numpy as np"
   ]
  },
  {
   "cell_type": "markdown",
   "id": "0eb55172-b114-4e65-a47e-1bc703ec751e",
   "metadata": {},
   "source": [
    "2. Se crea una matriz de 3 x 3 con números del 1 al 9."
   ]
  },
  {
   "cell_type": "code",
   "execution_count": 2,
   "id": "4e2d7048-ce80-4ad0-99f1-c2dce4594616",
   "metadata": {},
   "outputs": [
    {
     "data": {
      "text/plain": [
       "array([[1, 2, 3],\n",
       "       [4, 5, 6],\n",
       "       [7, 8, 9]])"
      ]
     },
     "execution_count": 2,
     "metadata": {},
     "output_type": "execute_result"
    }
   ],
   "source": [
    "A = np.array([[1, 2, 3], [4, 5, 6], [7, 8, 9]])\n",
    "A"
   ]
  },
  {
   "cell_type": "markdown",
   "id": "cc024258-8475-4b4b-ad0d-ac3bf17c4fe6",
   "metadata": {},
   "source": [
    "3. Se suma 10 a la matriz A"
   ]
  },
  {
   "cell_type": "code",
   "execution_count": 3,
   "id": "9c6fc166-a490-4428-80fd-d96dceab6107",
   "metadata": {},
   "outputs": [
    {
     "data": {
      "text/plain": [
       "array([[11, 12, 13],\n",
       "       [14, 15, 16],\n",
       "       [17, 18, 19]])"
      ]
     },
     "execution_count": 3,
     "metadata": {},
     "output_type": "execute_result"
    }
   ],
   "source": [
    "A + 10"
   ]
  },
  {
   "cell_type": "markdown",
   "id": "b775e453-169a-48b0-83eb-e34bd9da4138",
   "metadata": {},
   "source": [
    "4. Se multiplica la matriz A por 2."
   ]
  },
  {
   "cell_type": "code",
   "execution_count": 4,
   "id": "180e81c3-0653-43dd-9135-1fec612eb2c3",
   "metadata": {},
   "outputs": [
    {
     "data": {
      "text/plain": [
       "array([[ 2,  4,  6],\n",
       "       [ 8, 10, 12],\n",
       "       [14, 16, 18]])"
      ]
     },
     "execution_count": 4,
     "metadata": {},
     "output_type": "execute_result"
    }
   ],
   "source": [
    "A * 2"
   ]
  },
  {
   "cell_type": "markdown",
   "id": "87937ca4-8292-4cee-a3e9-077a7fe57c31",
   "metadata": {},
   "source": [
    "5. Se extraen los elementos de la matriz A que son mayores a 5."
   ]
  },
  {
   "cell_type": "code",
   "execution_count": 5,
   "id": "d86cce56-df9f-4632-9160-29f65e504958",
   "metadata": {},
   "outputs": [
    {
     "data": {
      "text/plain": [
       "array([6, 7, 8, 9])"
      ]
     },
     "execution_count": 5,
     "metadata": {},
     "output_type": "execute_result"
    }
   ],
   "source": [
    "A[A > 5]"
   ]
  },
  {
   "cell_type": "markdown",
   "id": "46289689-a600-4e75-ab61-091ce78e90cf",
   "metadata": {},
   "source": [
    "6. Se realiza la asignación B=A y se reemplaza el elemento central de la matriz B por 1. El resultado es que la matriz A también es modificada.\n",
    "   Esto se debe a que las matrices A y B ocupan el mismo espacio de memoria."
   ]
  },
  {
   "cell_type": "code",
   "execution_count": 6,
   "id": "f9c2fbd2-d294-4509-9c36-8700fa1c9112",
   "metadata": {},
   "outputs": [
    {
     "data": {
      "text/plain": [
       "array([[1, 2, 3],\n",
       "       [4, 1, 6],\n",
       "       [7, 8, 9]])"
      ]
     },
     "execution_count": 6,
     "metadata": {},
     "output_type": "execute_result"
    }
   ],
   "source": [
    "B = A\n",
    "B[1, 1] = 1\n",
    "A"
   ]
  },
  {
   "cell_type": "markdown",
   "id": "59c24004-82cf-4706-9abf-c4545ca4b2bd",
   "metadata": {},
   "source": [
    "7. Se realiza la misma operación anterior, pero esta vez con la asignación B=A.copy() y se reemplaza el elemento central de la matriz B por 1. El resultado es que la matriz A ahora no cambia, esto debido a que el método copy transfiere los datos de la matriz A a la matriz B, no solo el espacio de memoria."
   ]
  },
  {
   "cell_type": "code",
   "execution_count": 7,
   "id": "695631e9-f6b3-4d77-9d91-c2e80a99efae",
   "metadata": {},
   "outputs": [
    {
     "data": {
      "text/plain": [
       "array([[1, 2, 3],\n",
       "       [4, 5, 6],\n",
       "       [7, 8, 9]])"
      ]
     },
     "execution_count": 7,
     "metadata": {},
     "output_type": "execute_result"
    }
   ],
   "source": [
    "A = np.array([[1, 2, 3], [4, 5, 6], [7, 8, 9]])\n",
    "B = A.copy()\n",
    "B[1, 1] = 1\n",
    "A"
   ]
  },
  {
   "cell_type": "code",
   "execution_count": null,
   "id": "f884e4a0-3afc-4f30-80ab-290f42f3c7b2",
   "metadata": {},
   "outputs": [],
   "source": []
  }
 ],
 "metadata": {
  "kernelspec": {
   "display_name": "Python 3 (ipykernel)",
   "language": "python",
   "name": "python3"
  },
  "language_info": {
   "codemirror_mode": {
    "name": "ipython",
    "version": 3
   },
   "file_extension": ".py",
   "mimetype": "text/x-python",
   "name": "python",
   "nbconvert_exporter": "python",
   "pygments_lexer": "ipython3",
   "version": "3.13.3"
  }
 },
 "nbformat": 4,
 "nbformat_minor": 5
}
