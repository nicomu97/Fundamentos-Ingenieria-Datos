{
 "cells": [
  {
   "cell_type": "markdown",
   "id": "d36e6255-8208-47ab-a320-0eb3e4fd6f15",
   "metadata": {},
   "source": [
    "# Tarea L3 - Análisis de caso - Preprocesamiento y escalamiento de datos\n",
    "\n",
    "Se nos ha solicitado realizar una serie de transformaciones a un conjunto de datos para su uso en modelos de aprendizaje de máquina. A continuación, se presenta el desarrollo de las transformaciones solicitadas.\n",
    "\n",
    "Iniciamos importando los paquetes que se necesitarán para los pasos solicitados, e importar los datos necesarios."
   ]
  },
  {
   "cell_type": "code",
   "execution_count": 1,
   "id": "5f281573-8581-4e9a-915d-d9bbaa26ac57",
   "metadata": {},
   "outputs": [],
   "source": [
    "import os\n",
    "import pandas as pd\n",
    "import seaborn as sns\n",
    "from sklearn import set_config\n",
    "from sklearn.preprocessing import (\n",
    "LabelEncoder,\n",
    "OneHotEncoder,\n",
    "MinMaxScaler,\n",
    "StandardScaler\n",
    ")\n",
    "from sklearn.impute import SimpleImputer\n",
    "\n",
    "set_config(transform_output=\"pandas\")"
   ]
  },
  {
   "cell_type": "code",
   "execution_count": 2,
   "id": "5ccb1382-4a8d-4ab9-bd09-f46d665ead83",
   "metadata": {},
   "outputs": [],
   "source": [
    "dir_datos = os.path.join(\".\", \"Data\")\n",
    "datos = pd.read_csv(os.path.join(dir_datos, \"L3_datos.csv\"))"
   ]
  },
  {
   "cell_type": "code",
   "execution_count": 3,
   "id": "6eb0a729-31a7-49a2-bcc3-4df08d6ab972",
   "metadata": {},
   "outputs": [
    {
     "data": {
      "text/html": [
       "<div>\n",
       "<style scoped>\n",
       "    .dataframe tbody tr th:only-of-type {\n",
       "        vertical-align: middle;\n",
       "    }\n",
       "\n",
       "    .dataframe tbody tr th {\n",
       "        vertical-align: top;\n",
       "    }\n",
       "\n",
       "    .dataframe thead th {\n",
       "        text-align: right;\n",
       "    }\n",
       "</style>\n",
       "<table border=\"1\" class=\"dataframe\">\n",
       "  <thead>\n",
       "    <tr style=\"text-align: right;\">\n",
       "      <th></th>\n",
       "      <th>ID</th>\n",
       "      <th>Edad</th>\n",
       "      <th>Ciudad</th>\n",
       "      <th>Ingresos (USD)</th>\n",
       "    </tr>\n",
       "  </thead>\n",
       "  <tbody>\n",
       "    <tr>\n",
       "      <th>0</th>\n",
       "      <td>1</td>\n",
       "      <td>25</td>\n",
       "      <td>Madrid</td>\n",
       "      <td>30000.0</td>\n",
       "    </tr>\n",
       "    <tr>\n",
       "      <th>1</th>\n",
       "      <td>2</td>\n",
       "      <td>45</td>\n",
       "      <td>Sevilla</td>\n",
       "      <td>50000.0</td>\n",
       "    </tr>\n",
       "    <tr>\n",
       "      <th>2</th>\n",
       "      <td>3</td>\n",
       "      <td>30</td>\n",
       "      <td>Madrid</td>\n",
       "      <td>NaN</td>\n",
       "    </tr>\n",
       "    <tr>\n",
       "      <th>3</th>\n",
       "      <td>4</td>\n",
       "      <td>40</td>\n",
       "      <td>Barcelona</td>\n",
       "      <td>40000.0</td>\n",
       "    </tr>\n",
       "  </tbody>\n",
       "</table>\n",
       "</div>"
      ],
      "text/plain": [
       "   ID  Edad     Ciudad  Ingresos (USD)\n",
       "0   1    25     Madrid         30000.0\n",
       "1   2    45    Sevilla         50000.0\n",
       "2   3    30     Madrid             NaN\n",
       "3   4    40  Barcelona         40000.0"
      ]
     },
     "execution_count": 3,
     "metadata": {},
     "output_type": "execute_result"
    }
   ],
   "source": [
    "datos.head()"
   ]
  },
  {
   "cell_type": "markdown",
   "id": "4068476b-9e2b-41bb-96ab-0ae2da905188",
   "metadata": {},
   "source": [
    "A continuacióin, imputaremos la columna Ingresos con su media."
   ]
  },
  {
   "cell_type": "code",
   "execution_count": 4,
   "id": "b659663d-ec3f-4a25-bc5b-9e64cbccc932",
   "metadata": {},
   "outputs": [
    {
     "data": {
      "text/html": [
       "<div>\n",
       "<style scoped>\n",
       "    .dataframe tbody tr th:only-of-type {\n",
       "        vertical-align: middle;\n",
       "    }\n",
       "\n",
       "    .dataframe tbody tr th {\n",
       "        vertical-align: top;\n",
       "    }\n",
       "\n",
       "    .dataframe thead th {\n",
       "        text-align: right;\n",
       "    }\n",
       "</style>\n",
       "<table border=\"1\" class=\"dataframe\">\n",
       "  <thead>\n",
       "    <tr style=\"text-align: right;\">\n",
       "      <th></th>\n",
       "      <th>Ingresos (USD)</th>\n",
       "    </tr>\n",
       "  </thead>\n",
       "  <tbody>\n",
       "    <tr>\n",
       "      <th>0</th>\n",
       "      <td>30000.0</td>\n",
       "    </tr>\n",
       "    <tr>\n",
       "      <th>1</th>\n",
       "      <td>50000.0</td>\n",
       "    </tr>\n",
       "    <tr>\n",
       "      <th>2</th>\n",
       "      <td>40000.0</td>\n",
       "    </tr>\n",
       "    <tr>\n",
       "      <th>3</th>\n",
       "      <td>40000.0</td>\n",
       "    </tr>\n",
       "  </tbody>\n",
       "</table>\n",
       "</div>"
      ],
      "text/plain": [
       "   Ingresos (USD)\n",
       "0         30000.0\n",
       "1         50000.0\n",
       "2         40000.0\n",
       "3         40000.0"
      ]
     },
     "execution_count": 4,
     "metadata": {},
     "output_type": "execute_result"
    }
   ],
   "source": [
    "imputer = SimpleImputer().fit(datos[[\"Ingresos (USD)\"]])\n",
    "ingresos = imputer.transform(datos[[\"Ingresos (USD)\"]])\n",
    "ingresos.head()"
   ]
  },
  {
   "cell_type": "code",
   "execution_count": 5,
   "id": "3f5a2999-4060-4915-a243-ce6d9b2debbe",
   "metadata": {},
   "outputs": [
    {
     "data": {
      "text/html": [
       "<div>\n",
       "<style scoped>\n",
       "    .dataframe tbody tr th:only-of-type {\n",
       "        vertical-align: middle;\n",
       "    }\n",
       "\n",
       "    .dataframe tbody tr th {\n",
       "        vertical-align: top;\n",
       "    }\n",
       "\n",
       "    .dataframe thead th {\n",
       "        text-align: right;\n",
       "    }\n",
       "</style>\n",
       "<table border=\"1\" class=\"dataframe\">\n",
       "  <thead>\n",
       "    <tr style=\"text-align: right;\">\n",
       "      <th></th>\n",
       "      <th>ID</th>\n",
       "      <th>Edad</th>\n",
       "      <th>Ciudad</th>\n",
       "      <th>Ingresos (USD)</th>\n",
       "    </tr>\n",
       "  </thead>\n",
       "  <tbody>\n",
       "    <tr>\n",
       "      <th>0</th>\n",
       "      <td>1</td>\n",
       "      <td>25</td>\n",
       "      <td>Madrid</td>\n",
       "      <td>30000.0</td>\n",
       "    </tr>\n",
       "    <tr>\n",
       "      <th>1</th>\n",
       "      <td>2</td>\n",
       "      <td>45</td>\n",
       "      <td>Sevilla</td>\n",
       "      <td>50000.0</td>\n",
       "    </tr>\n",
       "    <tr>\n",
       "      <th>2</th>\n",
       "      <td>3</td>\n",
       "      <td>30</td>\n",
       "      <td>Madrid</td>\n",
       "      <td>40000.0</td>\n",
       "    </tr>\n",
       "    <tr>\n",
       "      <th>3</th>\n",
       "      <td>4</td>\n",
       "      <td>40</td>\n",
       "      <td>Barcelona</td>\n",
       "      <td>40000.0</td>\n",
       "    </tr>\n",
       "  </tbody>\n",
       "</table>\n",
       "</div>"
      ],
      "text/plain": [
       "   ID  Edad     Ciudad  Ingresos (USD)\n",
       "0   1    25     Madrid         30000.0\n",
       "1   2    45    Sevilla         50000.0\n",
       "2   3    30     Madrid         40000.0\n",
       "3   4    40  Barcelona         40000.0"
      ]
     },
     "execution_count": 5,
     "metadata": {},
     "output_type": "execute_result"
    }
   ],
   "source": [
    "datos_imputados = datos.copy()\n",
    "datos_imputados[\"Ingresos (USD)\"] = ingresos[\"Ingresos (USD)\"]\n",
    "datos_imputados.head()"
   ]
  },
  {
   "cell_type": "markdown",
   "id": "43e0ce2f-96de-4f19-893e-3e8a8c8c944f",
   "metadata": {},
   "source": [
    "Ahora, aplicaremos las transformaciones Label Encoding y One-Hot Encoding a la columna Ciudad."
   ]
  },
  {
   "cell_type": "code",
   "execution_count": 6,
   "id": "25345b9a-fac9-414b-a42a-736ff0a3a7bf",
   "metadata": {},
   "outputs": [
    {
     "data": {
      "text/plain": [
       "array([1, 2, 1, 0])"
      ]
     },
     "execution_count": 6,
     "metadata": {},
     "output_type": "execute_result"
    }
   ],
   "source": [
    "label_encoder = LabelEncoder().fit(datos_imputados[\"Ciudad\"])\n",
    "ciudad_label_encoded = label_encoder.transform(datos_imputados[\"Ciudad\"])\n",
    "ciudad_label_encoded"
   ]
  },
  {
   "cell_type": "code",
   "execution_count": 7,
   "id": "96e0d69b-0993-4650-b06c-ee90a52a7218",
   "metadata": {},
   "outputs": [
    {
     "data": {
      "text/html": [
       "<div>\n",
       "<style scoped>\n",
       "    .dataframe tbody tr th:only-of-type {\n",
       "        vertical-align: middle;\n",
       "    }\n",
       "\n",
       "    .dataframe tbody tr th {\n",
       "        vertical-align: top;\n",
       "    }\n",
       "\n",
       "    .dataframe thead th {\n",
       "        text-align: right;\n",
       "    }\n",
       "</style>\n",
       "<table border=\"1\" class=\"dataframe\">\n",
       "  <thead>\n",
       "    <tr style=\"text-align: right;\">\n",
       "      <th></th>\n",
       "      <th>ID</th>\n",
       "      <th>Edad</th>\n",
       "      <th>Ciudad</th>\n",
       "      <th>Ingresos (USD)</th>\n",
       "    </tr>\n",
       "  </thead>\n",
       "  <tbody>\n",
       "    <tr>\n",
       "      <th>0</th>\n",
       "      <td>1</td>\n",
       "      <td>25</td>\n",
       "      <td>1</td>\n",
       "      <td>30000.0</td>\n",
       "    </tr>\n",
       "    <tr>\n",
       "      <th>1</th>\n",
       "      <td>2</td>\n",
       "      <td>45</td>\n",
       "      <td>2</td>\n",
       "      <td>50000.0</td>\n",
       "    </tr>\n",
       "    <tr>\n",
       "      <th>2</th>\n",
       "      <td>3</td>\n",
       "      <td>30</td>\n",
       "      <td>1</td>\n",
       "      <td>40000.0</td>\n",
       "    </tr>\n",
       "    <tr>\n",
       "      <th>3</th>\n",
       "      <td>4</td>\n",
       "      <td>40</td>\n",
       "      <td>0</td>\n",
       "      <td>40000.0</td>\n",
       "    </tr>\n",
       "  </tbody>\n",
       "</table>\n",
       "</div>"
      ],
      "text/plain": [
       "   ID  Edad  Ciudad  Ingresos (USD)\n",
       "0   1    25       1         30000.0\n",
       "1   2    45       2         50000.0\n",
       "2   3    30       1         40000.0\n",
       "3   4    40       0         40000.0"
      ]
     },
     "execution_count": 7,
     "metadata": {},
     "output_type": "execute_result"
    }
   ],
   "source": [
    "datos_label_encoded = datos_imputados.copy()\n",
    "datos_label_encoded[\"Ciudad\"] = ciudad_label_encoded\n",
    "datos_label_encoded.head()"
   ]
  },
  {
   "cell_type": "code",
   "execution_count": 8,
   "id": "a265183c-31dc-4736-bc64-08be047d82c6",
   "metadata": {},
   "outputs": [
    {
     "data": {
      "text/html": [
       "<div>\n",
       "<style scoped>\n",
       "    .dataframe tbody tr th:only-of-type {\n",
       "        vertical-align: middle;\n",
       "    }\n",
       "\n",
       "    .dataframe tbody tr th {\n",
       "        vertical-align: top;\n",
       "    }\n",
       "\n",
       "    .dataframe thead th {\n",
       "        text-align: right;\n",
       "    }\n",
       "</style>\n",
       "<table border=\"1\" class=\"dataframe\">\n",
       "  <thead>\n",
       "    <tr style=\"text-align: right;\">\n",
       "      <th></th>\n",
       "      <th>Ciudad_Madrid</th>\n",
       "      <th>Ciudad_Sevilla</th>\n",
       "    </tr>\n",
       "  </thead>\n",
       "  <tbody>\n",
       "    <tr>\n",
       "      <th>0</th>\n",
       "      <td>1.0</td>\n",
       "      <td>0.0</td>\n",
       "    </tr>\n",
       "    <tr>\n",
       "      <th>1</th>\n",
       "      <td>0.0</td>\n",
       "      <td>1.0</td>\n",
       "    </tr>\n",
       "    <tr>\n",
       "      <th>2</th>\n",
       "      <td>1.0</td>\n",
       "      <td>0.0</td>\n",
       "    </tr>\n",
       "    <tr>\n",
       "      <th>3</th>\n",
       "      <td>0.0</td>\n",
       "      <td>0.0</td>\n",
       "    </tr>\n",
       "  </tbody>\n",
       "</table>\n",
       "</div>"
      ],
      "text/plain": [
       "   Ciudad_Madrid  Ciudad_Sevilla\n",
       "0            1.0             0.0\n",
       "1            0.0             1.0\n",
       "2            1.0             0.0\n",
       "3            0.0             0.0"
      ]
     },
     "execution_count": 8,
     "metadata": {},
     "output_type": "execute_result"
    }
   ],
   "source": [
    "onehot_encoder = OneHotEncoder(drop=\"first\", handle_unknown=\"ignore\", sparse_output=False).fit(datos_imputados[[\"Ciudad\"]])\n",
    "ciudad_onehot_encoded = onehot_encoder.transform(datos_imputados[[\"Ciudad\"]])\n",
    "ciudad_onehot_encoded.head()"
   ]
  },
  {
   "cell_type": "code",
   "execution_count": 9,
   "id": "2a309758-595f-46e4-8f98-b8c9de5c7861",
   "metadata": {},
   "outputs": [
    {
     "data": {
      "text/html": [
       "<div>\n",
       "<style scoped>\n",
       "    .dataframe tbody tr th:only-of-type {\n",
       "        vertical-align: middle;\n",
       "    }\n",
       "\n",
       "    .dataframe tbody tr th {\n",
       "        vertical-align: top;\n",
       "    }\n",
       "\n",
       "    .dataframe thead th {\n",
       "        text-align: right;\n",
       "    }\n",
       "</style>\n",
       "<table border=\"1\" class=\"dataframe\">\n",
       "  <thead>\n",
       "    <tr style=\"text-align: right;\">\n",
       "      <th></th>\n",
       "      <th>ID</th>\n",
       "      <th>Edad</th>\n",
       "      <th>Ingresos (USD)</th>\n",
       "      <th>Ciudad_Madrid</th>\n",
       "      <th>Ciudad_Sevilla</th>\n",
       "    </tr>\n",
       "  </thead>\n",
       "  <tbody>\n",
       "    <tr>\n",
       "      <th>0</th>\n",
       "      <td>1</td>\n",
       "      <td>25</td>\n",
       "      <td>30000.0</td>\n",
       "      <td>1.0</td>\n",
       "      <td>0.0</td>\n",
       "    </tr>\n",
       "    <tr>\n",
       "      <th>1</th>\n",
       "      <td>2</td>\n",
       "      <td>45</td>\n",
       "      <td>50000.0</td>\n",
       "      <td>0.0</td>\n",
       "      <td>1.0</td>\n",
       "    </tr>\n",
       "    <tr>\n",
       "      <th>2</th>\n",
       "      <td>3</td>\n",
       "      <td>30</td>\n",
       "      <td>40000.0</td>\n",
       "      <td>1.0</td>\n",
       "      <td>0.0</td>\n",
       "    </tr>\n",
       "    <tr>\n",
       "      <th>3</th>\n",
       "      <td>4</td>\n",
       "      <td>40</td>\n",
       "      <td>40000.0</td>\n",
       "      <td>0.0</td>\n",
       "      <td>0.0</td>\n",
       "    </tr>\n",
       "  </tbody>\n",
       "</table>\n",
       "</div>"
      ],
      "text/plain": [
       "   ID  Edad  Ingresos (USD)  Ciudad_Madrid  Ciudad_Sevilla\n",
       "0   1    25         30000.0            1.0             0.0\n",
       "1   2    45         50000.0            0.0             1.0\n",
       "2   3    30         40000.0            1.0             0.0\n",
       "3   4    40         40000.0            0.0             0.0"
      ]
     },
     "execution_count": 9,
     "metadata": {},
     "output_type": "execute_result"
    }
   ],
   "source": [
    "datos_onehot_encoded = datos_imputados.drop(columns=\"Ciudad\").copy()\n",
    "datos_onehot_encoded = pd.concat([datos_onehot_encoded, ciudad_onehot_encoded], axis=1)\n",
    "datos_onehot_encoded.head()"
   ]
  },
  {
   "cell_type": "markdown",
   "id": "272005cf-4ff8-40c9-91cf-d17ffbf5b1c1",
   "metadata": {},
   "source": [
    "Una vez hecha la codificación anterior, procedemos a codificar la columna Ciudad con variables Dummy."
   ]
  },
  {
   "cell_type": "code",
   "execution_count": 10,
   "id": "8dec9f59-2e32-49a2-8ad3-9102a07dab62",
   "metadata": {},
   "outputs": [
    {
     "data": {
      "text/html": [
       "<div>\n",
       "<style scoped>\n",
       "    .dataframe tbody tr th:only-of-type {\n",
       "        vertical-align: middle;\n",
       "    }\n",
       "\n",
       "    .dataframe tbody tr th {\n",
       "        vertical-align: top;\n",
       "    }\n",
       "\n",
       "    .dataframe thead th {\n",
       "        text-align: right;\n",
       "    }\n",
       "</style>\n",
       "<table border=\"1\" class=\"dataframe\">\n",
       "  <thead>\n",
       "    <tr style=\"text-align: right;\">\n",
       "      <th></th>\n",
       "      <th>ID</th>\n",
       "      <th>Edad</th>\n",
       "      <th>Ingresos (USD)</th>\n",
       "      <th>Ciudad_Madrid</th>\n",
       "      <th>Ciudad_Sevilla</th>\n",
       "    </tr>\n",
       "  </thead>\n",
       "  <tbody>\n",
       "    <tr>\n",
       "      <th>0</th>\n",
       "      <td>1</td>\n",
       "      <td>25</td>\n",
       "      <td>30000.0</td>\n",
       "      <td>True</td>\n",
       "      <td>False</td>\n",
       "    </tr>\n",
       "    <tr>\n",
       "      <th>1</th>\n",
       "      <td>2</td>\n",
       "      <td>45</td>\n",
       "      <td>50000.0</td>\n",
       "      <td>False</td>\n",
       "      <td>True</td>\n",
       "    </tr>\n",
       "    <tr>\n",
       "      <th>2</th>\n",
       "      <td>3</td>\n",
       "      <td>30</td>\n",
       "      <td>40000.0</td>\n",
       "      <td>True</td>\n",
       "      <td>False</td>\n",
       "    </tr>\n",
       "    <tr>\n",
       "      <th>3</th>\n",
       "      <td>4</td>\n",
       "      <td>40</td>\n",
       "      <td>40000.0</td>\n",
       "      <td>False</td>\n",
       "      <td>False</td>\n",
       "    </tr>\n",
       "  </tbody>\n",
       "</table>\n",
       "</div>"
      ],
      "text/plain": [
       "   ID  Edad  Ingresos (USD)  Ciudad_Madrid  Ciudad_Sevilla\n",
       "0   1    25         30000.0           True           False\n",
       "1   2    45         50000.0          False            True\n",
       "2   3    30         40000.0           True           False\n",
       "3   4    40         40000.0          False           False"
      ]
     },
     "execution_count": 10,
     "metadata": {},
     "output_type": "execute_result"
    }
   ],
   "source": [
    "datos_dummy = pd.get_dummies(datos_imputados, columns=[\"Ciudad\"], drop_first=True)\n",
    "datos_dummy.head()"
   ]
  },
  {
   "cell_type": "markdown",
   "id": "1c533f90-872c-4106-8d32-85beef1b34ec",
   "metadata": {},
   "source": [
    "A continuación, escalamos las variables Edad e Ingresos usando normalización Min-Max y estandarización Z-Score."
   ]
  },
  {
   "cell_type": "code",
   "execution_count": 11,
   "id": "b4fe4afb-65c9-45b5-8664-ddb40d88c7e9",
   "metadata": {},
   "outputs": [
    {
     "data": {
      "text/html": [
       "<div>\n",
       "<style scoped>\n",
       "    .dataframe tbody tr th:only-of-type {\n",
       "        vertical-align: middle;\n",
       "    }\n",
       "\n",
       "    .dataframe tbody tr th {\n",
       "        vertical-align: top;\n",
       "    }\n",
       "\n",
       "    .dataframe thead th {\n",
       "        text-align: right;\n",
       "    }\n",
       "</style>\n",
       "<table border=\"1\" class=\"dataframe\">\n",
       "  <thead>\n",
       "    <tr style=\"text-align: right;\">\n",
       "      <th></th>\n",
       "      <th>Edad</th>\n",
       "      <th>Ingresos (USD)</th>\n",
       "    </tr>\n",
       "  </thead>\n",
       "  <tbody>\n",
       "    <tr>\n",
       "      <th>0</th>\n",
       "      <td>0.00</td>\n",
       "      <td>0.0</td>\n",
       "    </tr>\n",
       "    <tr>\n",
       "      <th>1</th>\n",
       "      <td>1.00</td>\n",
       "      <td>1.0</td>\n",
       "    </tr>\n",
       "    <tr>\n",
       "      <th>2</th>\n",
       "      <td>0.25</td>\n",
       "      <td>0.5</td>\n",
       "    </tr>\n",
       "    <tr>\n",
       "      <th>3</th>\n",
       "      <td>0.75</td>\n",
       "      <td>0.5</td>\n",
       "    </tr>\n",
       "  </tbody>\n",
       "</table>\n",
       "</div>"
      ],
      "text/plain": [
       "   Edad  Ingresos (USD)\n",
       "0  0.00             0.0\n",
       "1  1.00             1.0\n",
       "2  0.25             0.5\n",
       "3  0.75             0.5"
      ]
     },
     "execution_count": 11,
     "metadata": {},
     "output_type": "execute_result"
    }
   ],
   "source": [
    "minmax_scaler = MinMaxScaler().fit(datos_onehot_encoded[[\"Edad\", \"Ingresos (USD)\"]])\n",
    "datos_minmax = minmax_scaler.transform(datos_onehot_encoded[[\"Edad\", \"Ingresos (USD)\"]])\n",
    "datos_minmax.head()"
   ]
  },
  {
   "cell_type": "code",
   "execution_count": 12,
   "id": "a6302e52-9f7d-4920-85a3-8100573ec2cb",
   "metadata": {},
   "outputs": [
    {
     "data": {
      "image/png": "[encoded data removed]",
      "text/plain": [
       "<Figure size 640x480 with 1 Axes>"
      ]
     },
     "metadata": {},
     "output_type": "display_data"
    }
   ],
   "source": [
    "sns.scatterplot(datos_minmax, x=\"Edad\", y=\"Ingresos (USD)\").set_title(\"Datos transformados con método Min-Max\");"
   ]
  },
  {
   "cell_type": "code",
   "execution_count": 13,
   "id": "6d5ace9d-d624-47d8-a9d2-4a71bacc8f21",
   "metadata": {},
   "outputs": [
    {
     "data": {
      "text/html": [
       "<div>\n",
       "<style scoped>\n",
       "    .dataframe tbody tr th:only-of-type {\n",
       "        vertical-align: middle;\n",
       "    }\n",
       "\n",
       "    .dataframe tbody tr th {\n",
       "        vertical-align: top;\n",
       "    }\n",
       "\n",
       "    .dataframe thead th {\n",
       "        text-align: right;\n",
       "    }\n",
       "</style>\n",
       "<table border=\"1\" class=\"dataframe\">\n",
       "  <thead>\n",
       "    <tr style=\"text-align: right;\">\n",
       "      <th></th>\n",
       "      <th>ID</th>\n",
       "      <th>Edad</th>\n",
       "      <th>Ingresos (USD)</th>\n",
       "      <th>Ciudad_Madrid</th>\n",
       "      <th>Ciudad_Sevilla</th>\n",
       "    </tr>\n",
       "  </thead>\n",
       "  <tbody>\n",
       "    <tr>\n",
       "      <th>0</th>\n",
       "      <td>1</td>\n",
       "      <td>0.00</td>\n",
       "      <td>0.0</td>\n",
       "      <td>1.0</td>\n",
       "      <td>0.0</td>\n",
       "    </tr>\n",
       "    <tr>\n",
       "      <th>1</th>\n",
       "      <td>2</td>\n",
       "      <td>1.00</td>\n",
       "      <td>1.0</td>\n",
       "      <td>0.0</td>\n",
       "      <td>1.0</td>\n",
       "    </tr>\n",
       "    <tr>\n",
       "      <th>2</th>\n",
       "      <td>3</td>\n",
       "      <td>0.25</td>\n",
       "      <td>0.5</td>\n",
       "      <td>1.0</td>\n",
       "      <td>0.0</td>\n",
       "    </tr>\n",
       "    <tr>\n",
       "      <th>3</th>\n",
       "      <td>4</td>\n",
       "      <td>0.75</td>\n",
       "      <td>0.5</td>\n",
       "      <td>0.0</td>\n",
       "      <td>0.0</td>\n",
       "    </tr>\n",
       "  </tbody>\n",
       "</table>\n",
       "</div>"
      ],
      "text/plain": [
       "   ID  Edad  Ingresos (USD)  Ciudad_Madrid  Ciudad_Sevilla\n",
       "0   1  0.00             0.0            1.0             0.0\n",
       "1   2  1.00             1.0            0.0             1.0\n",
       "2   3  0.25             0.5            1.0             0.0\n",
       "3   4  0.75             0.5            0.0             0.0"
      ]
     },
     "execution_count": 13,
     "metadata": {},
     "output_type": "execute_result"
    }
   ],
   "source": [
    "datos_escalados_minmax = datos_onehot_encoded.copy()\n",
    "datos_escalados_minmax[[\"Edad\", \"Ingresos (USD)\"]] = datos_minmax\n",
    "datos_escalados_minmax.head()"
   ]
  },
  {
   "cell_type": "code",
   "execution_count": 14,
   "id": "dbbae240-eb41-47c6-8848-30080a0c14cf",
   "metadata": {},
   "outputs": [
    {
     "data": {
      "text/html": [
       "<div>\n",
       "<style scoped>\n",
       "    .dataframe tbody tr th:only-of-type {\n",
       "        vertical-align: middle;\n",
       "    }\n",
       "\n",
       "    .dataframe tbody tr th {\n",
       "        vertical-align: top;\n",
       "    }\n",
       "\n",
       "    .dataframe thead th {\n",
       "        text-align: right;\n",
       "    }\n",
       "</style>\n",
       "<table border=\"1\" class=\"dataframe\">\n",
       "  <thead>\n",
       "    <tr style=\"text-align: right;\">\n",
       "      <th></th>\n",
       "      <th>Edad</th>\n",
       "      <th>Ingresos (USD)</th>\n",
       "    </tr>\n",
       "  </thead>\n",
       "  <tbody>\n",
       "    <tr>\n",
       "      <th>0</th>\n",
       "      <td>-1.264911</td>\n",
       "      <td>-1.414214</td>\n",
       "    </tr>\n",
       "    <tr>\n",
       "      <th>1</th>\n",
       "      <td>1.264911</td>\n",
       "      <td>1.414214</td>\n",
       "    </tr>\n",
       "    <tr>\n",
       "      <th>2</th>\n",
       "      <td>-0.632456</td>\n",
       "      <td>0.000000</td>\n",
       "    </tr>\n",
       "    <tr>\n",
       "      <th>3</th>\n",
       "      <td>0.632456</td>\n",
       "      <td>0.000000</td>\n",
       "    </tr>\n",
       "  </tbody>\n",
       "</table>\n",
       "</div>"
      ],
      "text/plain": [
       "       Edad  Ingresos (USD)\n",
       "0 -1.264911       -1.414214\n",
       "1  1.264911        1.414214\n",
       "2 -0.632456        0.000000\n",
       "3  0.632456        0.000000"
      ]
     },
     "execution_count": 14,
     "metadata": {},
     "output_type": "execute_result"
    }
   ],
   "source": [
    "std_scaler = StandardScaler().fit(datos_onehot_encoded[[\"Edad\", \"Ingresos (USD)\"]])\n",
    "datos_std = std_scaler.transform(datos_onehot_encoded[[\"Edad\", \"Ingresos (USD)\"]])\n",
    "datos_std.head()"
   ]
  },
  {
   "cell_type": "code",
   "execution_count": 15,
   "id": "e8fba3af-af67-4e16-9b45-cfd289b0a203",
   "metadata": {},
   "outputs": [
    {
     "data": {
      "image/png": "[encoded data removed]",
      "text/plain": [
       "<Figure size 640x480 with 1 Axes>"
      ]
     },
     "metadata": {},
     "output_type": "display_data"
    }
   ],
   "source": [
    "sns.scatterplot(datos_std, x=\"Edad\", y=\"Ingresos (USD)\").set_title(\"Datos transformados con método Z-Score\");"
   ]
  },
  {
   "cell_type": "code",
   "execution_count": 16,
   "id": "27756615-2733-4636-bb1b-9a9ba0287055",
   "metadata": {},
   "outputs": [
    {
     "data": {
      "text/html": [
       "<div>\n",
       "<style scoped>\n",
       "    .dataframe tbody tr th:only-of-type {\n",
       "        vertical-align: middle;\n",
       "    }\n",
       "\n",
       "    .dataframe tbody tr th {\n",
       "        vertical-align: top;\n",
       "    }\n",
       "\n",
       "    .dataframe thead th {\n",
       "        text-align: right;\n",
       "    }\n",
       "</style>\n",
       "<table border=\"1\" class=\"dataframe\">\n",
       "  <thead>\n",
       "    <tr style=\"text-align: right;\">\n",
       "      <th></th>\n",
       "      <th>ID</th>\n",
       "      <th>Edad</th>\n",
       "      <th>Ingresos (USD)</th>\n",
       "      <th>Ciudad_Madrid</th>\n",
       "      <th>Ciudad_Sevilla</th>\n",
       "    </tr>\n",
       "  </thead>\n",
       "  <tbody>\n",
       "    <tr>\n",
       "      <th>0</th>\n",
       "      <td>1</td>\n",
       "      <td>-1.264911</td>\n",
       "      <td>-1.414214</td>\n",
       "      <td>1.0</td>\n",
       "      <td>0.0</td>\n",
       "    </tr>\n",
       "    <tr>\n",
       "      <th>1</th>\n",
       "      <td>2</td>\n",
       "      <td>1.264911</td>\n",
       "      <td>1.414214</td>\n",
       "      <td>0.0</td>\n",
       "      <td>1.0</td>\n",
       "    </tr>\n",
       "    <tr>\n",
       "      <th>2</th>\n",
       "      <td>3</td>\n",
       "      <td>-0.632456</td>\n",
       "      <td>0.000000</td>\n",
       "      <td>1.0</td>\n",
       "      <td>0.0</td>\n",
       "    </tr>\n",
       "    <tr>\n",
       "      <th>3</th>\n",
       "      <td>4</td>\n",
       "      <td>0.632456</td>\n",
       "      <td>0.000000</td>\n",
       "      <td>0.0</td>\n",
       "      <td>0.0</td>\n",
       "    </tr>\n",
       "  </tbody>\n",
       "</table>\n",
       "</div>"
      ],
      "text/plain": [
       "   ID      Edad  Ingresos (USD)  Ciudad_Madrid  Ciudad_Sevilla\n",
       "0   1 -1.264911       -1.414214            1.0             0.0\n",
       "1   2  1.264911        1.414214            0.0             1.0\n",
       "2   3 -0.632456        0.000000            1.0             0.0\n",
       "3   4  0.632456        0.000000            0.0             0.0"
      ]
     },
     "execution_count": 16,
     "metadata": {},
     "output_type": "execute_result"
    }
   ],
   "source": [
    "datos_escalados_std = datos_onehot_encoded.copy()\n",
    "datos_escalados_std[[\"Edad\", \"Ingresos (USD)\"]] = datos_std\n",
    "datos_escalados_std.head()"
   ]
  },
  {
   "cell_type": "markdown",
   "id": "68ee2b1f-fe04-4cbd-9b97-caa721b1e063",
   "metadata": {},
   "source": [
    "Para finalizar, guardaremos los datos preprocesados y escalados en un archivo csv."
   ]
  },
  {
   "cell_type": "code",
   "execution_count": 17,
   "id": "72296868-9612-4836-8be4-50630e20a2fd",
   "metadata": {},
   "outputs": [],
   "source": [
    "datos_escalados_std.to_csv(os.path.join(dir_datos, \"datos_preprocesados.csv\"))"
   ]
  },
  {
   "cell_type": "code",
   "execution_count": null,
   "id": "a93bb1cb-fb04-411e-92a4-a1b0b93cf79e",
   "metadata": {},
   "outputs": [],
   "source": []
  }
 ],
 "metadata": {
  "kernelspec": {
   "display_name": "Python 3 (ipykernel)",
   "language": "python",
   "name": "python3"
  },
  "language_info": {
   "codemirror_mode": {
    "name": "ipython",
    "version": 3
   },
   "file_extension": ".py",
   "mimetype": "text/x-python",
   "name": "python",
   "nbconvert_exporter": "python",
   "pygments_lexer": "ipython3",
   "version": "3.13.3"
  }
 },
 "nbformat": 4,
 "nbformat_minor": 5
}
